{
 "cells": [
  {
   "cell_type": "markdown",
   "metadata": {},
   "source": [
    "Please note that I've put # infront of the fit and predicts of the models and some other functions. The notebook has been created entirely in colab.google.com so some additional lines might not work in this jupyther. Regardless even if those cells are run the history of epochs and MSE would be lost so please first read the notebook and finally do the check with running all cells if you do the check."
   ]
  },
  {
   "cell_type": "code",
   "execution_count": 0,
   "metadata": {
    "colab": {},
    "colab_type": "code",
    "id": "ybN22zoqZhff"
   },
   "outputs": [],
   "source": [
    "%matplotlib inline"
   ]
  },
  {
   "cell_type": "code",
   "execution_count": 0,
   "metadata": {
    "colab": {},
    "colab_type": "code",
    "id": "mhzcod-aS66u"
   },
   "outputs": [],
   "source": [
    "%tensorflow_version 2.x"
   ]
  },
  {
   "cell_type": "code",
   "execution_count": 53,
   "metadata": {
    "colab": {
     "base_uri": "https://localhost:8080/",
     "height": 35
    },
    "colab_type": "code",
    "id": "RDurmwulTOwJ",
    "outputId": "215edc75-2f16-48dc-8cbd-8704b894c41c"
   },
   "outputs": [
    {
     "name": "stdout",
     "output_type": "stream",
     "text": [
      "2.1.0\n"
     ]
    }
   ],
   "source": [
    "import tensorflow\n",
    "print(tensorflow.__version__)"
   ]
  },
  {
   "cell_type": "code",
   "execution_count": 54,
   "metadata": {
    "colab": {
     "base_uri": "https://localhost:8080/",
     "height": 54
    },
    "colab_type": "code",
    "id": "h0O7uJL1PULU",
    "outputId": "4ac2d589-66de-4215-9520-a258a2f189fc"
   },
   "outputs": [
    {
     "name": "stdout",
     "output_type": "stream",
     "text": [
      "The tensorboard extension is already loaded. To reload it, use:\n",
      "  %reload_ext tensorboard\n"
     ]
    }
   ],
   "source": [
    "import numpy as np\n",
    "import pandas as pd\n",
    "import matplotlib.pyplot as plt\n",
    "\n",
    "import tensorflow as tf\n",
    "\n",
    "from datetime import datetime\n",
    "import os\n",
    "\n",
    "from sklearn.metrics import mean_squared_error\n",
    "\n",
    "from tensorflow.keras.models import Model\n",
    "from tensorflow.keras.layers import Input, Dense, Embedding, Concatenate, Reshape, Dot, Dropout\n",
    "from tensorflow.keras.optimizers import Adam\n",
    "\n",
    "%load_ext tensorboard\n",
    "\n",
    "#from tensorboard import notebook"
   ]
  },
  {
   "cell_type": "markdown",
   "metadata": {
    "colab_type": "text",
    "id": "LxbhLG3Tgu5F"
   },
   "source": [
    "# Deep Neural Book Recommender"
   ]
  },
  {
   "cell_type": "markdown",
   "metadata": {
    "colab_type": "text",
    "id": "xv9rVJpIg5Oz"
   },
   "source": [
    "## Create and optimize a book recommender using deep neural network.\n",
    "\n",
    "Author: Aleksandar Vladimirov\n",
    "\n",
    "14/02/2020"
   ]
  },
  {
   "cell_type": "markdown",
   "metadata": {
    "colab_type": "text",
    "id": "DD8Th1hyhNu6"
   },
   "source": [
    "Abstract\n",
    "\n",
    "I’ve been interested in how you get suggestions for what to watch, listen and read. Netflix, Youtube, Spotify and well, Goodreads come to mind. And though I’m thinking of a Netflix subscription just out of interest how good can it get for me for real me and became addicted to Spotify and Movielens recommendation engines are quite interesting. This of course begs the question of course is how are you going to experience something new which is quite unlike yourself (and other with similar tastes people) if you’re constantly bombarded with stuff similar to those you’ve already tried. "
   ]
  },
  {
   "cell_type": "markdown",
   "metadata": {
    "colab_type": "text",
    "id": "1D-aFSuLhQXS"
   },
   "source": [
    "## Table of content:\n",
    "\n",
    "1. Introduction\n",
    "2. Load the data\n",
    "3. Let's take a look at our data (EDA)\n",
    "4. Prepare, train and optimize the model\n",
    "5. Conclusion"
   ]
  },
  {
   "cell_type": "markdown",
   "metadata": {
    "colab_type": "text",
    "id": "faY9NMs8hX6p"
   },
   "source": [
    "##1. Introduction\n",
    "\n",
    "This is my first time working with tensorflow and google.colab so it’s been quite interesting. I’m using colab because my laptop begs for retirement but I won’t let it go (probably how I’m going to be in 40/45 years time :D )\n",
    "\n",
    "Regarding the recommenders there are more example of movie/song recommenders but too few for books, so I decided to go with a recommender for a book.\n",
    "\n",
    "The dataset I'll be using has data for 10000 books and 53424 users."
   ]
  },
  {
   "cell_type": "markdown",
   "metadata": {
    "colab_type": "text",
    "id": "H-Thk10FjtWQ"
   },
   "source": [
    "## 2. Load the data"
   ]
  },
  {
   "cell_type": "markdown",
   "metadata": {
    "colab_type": "text",
    "id": "DLMJHcOQl36C"
   },
   "source": [
    "The data is pulled from the goodreads.com site and description of it can be found here:\n",
    "https://www.kaggle.com/zygmunt/goodbooks-10k\n",
    "Lucky for me there was a new cleaner version of the data and I’m using directly the links from the link provided in the Kaggle, but I will put it here as well.\n",
    "https://github.com/zygmuntz/goodbooks-10k.\n"
   ]
  },
  {
   "cell_type": "code",
   "execution_count": 0,
   "metadata": {
    "colab": {},
    "colab_type": "code",
    "id": "aKT48kfegWoK"
   },
   "outputs": [],
   "source": [
    "#So I'm going to load a few datasets and see what is relevant and what is not\n",
    "books_df = pd.read_csv(\"https://github.com/zygmuntz/goodbooks-10k/raw/master/books.csv\")\n",
    "ratings_df = pd.read_csv(\"https://github.com/zygmuntz/goodbooks-10k/raw/master/ratings.csv\")\n",
    "#just in case to_read table\n",
    "to_read_df = pd.read_csv(\"https://github.com/zygmuntz/goodbooks-10k/raw/master/to_read.csv\")"
   ]
  },
  {
   "cell_type": "code",
   "execution_count": 56,
   "metadata": {
    "colab": {
     "base_uri": "https://localhost:8080/",
     "height": 78
    },
    "colab_type": "code",
    "id": "55V_k5IAXvOa",
    "outputId": "50329aa3-a24f-4feb-ed19-70c03e242330"
   },
   "outputs": [
    {
     "data": {
      "text/html": [
       "<div>\n",
       "<style scoped>\n",
       "    .dataframe tbody tr th:only-of-type {\n",
       "        vertical-align: middle;\n",
       "    }\n",
       "\n",
       "    .dataframe tbody tr th {\n",
       "        vertical-align: top;\n",
       "    }\n",
       "\n",
       "    .dataframe thead th {\n",
       "        text-align: right;\n",
       "    }\n",
       "</style>\n",
       "<table border=\"1\" class=\"dataframe\">\n",
       "  <thead>\n",
       "    <tr style=\"text-align: right;\">\n",
       "      <th></th>\n",
       "      <th>user_id</th>\n",
       "      <th>book_id</th>\n",
       "      <th>rating</th>\n",
       "    </tr>\n",
       "  </thead>\n",
       "  <tbody>\n",
       "    <tr>\n",
       "      <th>2006560</th>\n",
       "      <td>27415</td>\n",
       "      <td>1234</td>\n",
       "      <td>4</td>\n",
       "    </tr>\n",
       "  </tbody>\n",
       "</table>\n",
       "</div>"
      ],
      "text/plain": [
       "         user_id  book_id  rating\n",
       "2006560    27415     1234       4"
      ]
     },
     "execution_count": 56,
     "metadata": {
      "tags": []
     },
     "output_type": "execute_result"
    }
   ],
   "source": [
    "#The usual sample to see what columns we have, and their naming.\n",
    "ratings_df.sample()"
   ]
  },
  {
   "cell_type": "code",
   "execution_count": 57,
   "metadata": {
    "colab": {
     "base_uri": "https://localhost:8080/",
     "height": 249
    },
    "colab_type": "code",
    "id": "4MKek7XDHP4b",
    "outputId": "f82ab856-ab6f-4317-db9f-57685fb9efd6"
   },
   "outputs": [
    {
     "data": {
      "text/html": [
       "<div>\n",
       "<style scoped>\n",
       "    .dataframe tbody tr th:only-of-type {\n",
       "        vertical-align: middle;\n",
       "    }\n",
       "\n",
       "    .dataframe tbody tr th {\n",
       "        vertical-align: top;\n",
       "    }\n",
       "\n",
       "    .dataframe thead th {\n",
       "        text-align: right;\n",
       "    }\n",
       "</style>\n",
       "<table border=\"1\" class=\"dataframe\">\n",
       "  <thead>\n",
       "    <tr style=\"text-align: right;\">\n",
       "      <th></th>\n",
       "      <th>book_id</th>\n",
       "      <th>goodreads_book_id</th>\n",
       "      <th>best_book_id</th>\n",
       "      <th>work_id</th>\n",
       "      <th>books_count</th>\n",
       "      <th>isbn</th>\n",
       "      <th>isbn13</th>\n",
       "      <th>authors</th>\n",
       "      <th>original_publication_year</th>\n",
       "      <th>original_title</th>\n",
       "      <th>title</th>\n",
       "      <th>language_code</th>\n",
       "      <th>average_rating</th>\n",
       "      <th>ratings_count</th>\n",
       "      <th>work_ratings_count</th>\n",
       "      <th>work_text_reviews_count</th>\n",
       "      <th>ratings_1</th>\n",
       "      <th>ratings_2</th>\n",
       "      <th>ratings_3</th>\n",
       "      <th>ratings_4</th>\n",
       "      <th>ratings_5</th>\n",
       "      <th>image_url</th>\n",
       "      <th>small_image_url</th>\n",
       "    </tr>\n",
       "  </thead>\n",
       "  <tbody>\n",
       "    <tr>\n",
       "      <th>8651</th>\n",
       "      <td>8652</td>\n",
       "      <td>295169</td>\n",
       "      <td>295169</td>\n",
       "      <td>2919537</td>\n",
       "      <td>54</td>\n",
       "      <td>786814179</td>\n",
       "      <td>9.780787e+12</td>\n",
       "      <td>William Nicholson, Peter Sís</td>\n",
       "      <td>2000.0</td>\n",
       "      <td>The Wind Singer</td>\n",
       "      <td>The Wind Singer (Wind on Fire, #1)</td>\n",
       "      <td>eng</td>\n",
       "      <td>3.84</td>\n",
       "      <td>12654</td>\n",
       "      <td>14508</td>\n",
       "      <td>472</td>\n",
       "      <td>341</td>\n",
       "      <td>957</td>\n",
       "      <td>3647</td>\n",
       "      <td>5351</td>\n",
       "      <td>4212</td>\n",
       "      <td>https://images.gr-assets.com/books/1293635554m...</td>\n",
       "      <td>https://images.gr-assets.com/books/1293635554s...</td>\n",
       "    </tr>\n",
       "    <tr>\n",
       "      <th>1250</th>\n",
       "      <td>1251</td>\n",
       "      <td>6468666</td>\n",
       "      <td>6468666</td>\n",
       "      <td>6659237</td>\n",
       "      <td>39</td>\n",
       "      <td>1841497126</td>\n",
       "      <td>9.781841e+12</td>\n",
       "      <td>Kelley Armstrong</td>\n",
       "      <td>2010.0</td>\n",
       "      <td>The Reckoning</td>\n",
       "      <td>The Reckoning (Darkest Powers, #3)</td>\n",
       "      <td>en-GB</td>\n",
       "      <td>4.21</td>\n",
       "      <td>92922</td>\n",
       "      <td>96809</td>\n",
       "      <td>3418</td>\n",
       "      <td>1256</td>\n",
       "      <td>3395</td>\n",
       "      <td>15949</td>\n",
       "      <td>29157</td>\n",
       "      <td>47052</td>\n",
       "      <td>https://images.gr-assets.com/books/1327154591m...</td>\n",
       "      <td>https://images.gr-assets.com/books/1327154591s...</td>\n",
       "    </tr>\n",
       "  </tbody>\n",
       "</table>\n",
       "</div>"
      ],
      "text/plain": [
       "      book_id  ...                                    small_image_url\n",
       "8651     8652  ...  https://images.gr-assets.com/books/1293635554s...\n",
       "1250     1251  ...  https://images.gr-assets.com/books/1327154591s...\n",
       "\n",
       "[2 rows x 23 columns]"
      ]
     },
     "execution_count": 57,
     "metadata": {
      "tags": []
     },
     "output_type": "execute_result"
    }
   ],
   "source": [
    "#The same for books_df. It seems that here we have a lot of columns, but I'm going to leave it for now as all the data I need is in ratings_df.\n",
    "books_df.sample(2)"
   ]
  },
  {
   "cell_type": "markdown",
   "metadata": {
    "colab_type": "text",
    "id": "vS089Rs8lCtW"
   },
   "source": [
    "##3 Let's take a look at our data (EDA)"
   ]
  },
  {
   "cell_type": "markdown",
   "metadata": {
    "colab_type": "text",
    "id": "ZgYrfme8lRG5"
   },
   "source": [
    "So we need to check the data, like shape, data types, describe it to see anything which needs correcting (though this is cleaner dataset and should be ok). Checking just in case."
   ]
  },
  {
   "cell_type": "code",
   "execution_count": 58,
   "metadata": {
    "colab": {
     "base_uri": "https://localhost:8080/",
     "height": 35
    },
    "colab_type": "code",
    "id": "VzjaPONckL-N",
    "outputId": "cc8d97b4-9434-422b-bd4a-f4d2cab83f01"
   },
   "outputs": [
    {
     "data": {
      "text/plain": [
       "(5976479, 3)"
      ]
     },
     "execution_count": 58,
     "metadata": {
      "tags": []
     },
     "output_type": "execute_result"
    }
   ],
   "source": [
    "ratings_df.shape"
   ]
  },
  {
   "cell_type": "code",
   "execution_count": 59,
   "metadata": {
    "colab": {
     "base_uri": "https://localhost:8080/",
     "height": 90
    },
    "colab_type": "code",
    "id": "owFsG2nvmJHu",
    "outputId": "1b5e16fc-ab2e-4c01-e45c-2a339039ada7"
   },
   "outputs": [
    {
     "data": {
      "text/plain": [
       "user_id    int64\n",
       "book_id    int64\n",
       "rating     int64\n",
       "dtype: object"
      ]
     },
     "execution_count": 59,
     "metadata": {
      "tags": []
     },
     "output_type": "execute_result"
    }
   ],
   "source": [
    "ratings_df.dtypes"
   ]
  },
  {
   "cell_type": "code",
   "execution_count": 60,
   "metadata": {
    "colab": {
     "base_uri": "https://localhost:8080/",
     "height": 288
    },
    "colab_type": "code",
    "id": "wzWrmqnIwIS_",
    "outputId": "9b99d95d-5e08-4096-a481-500b3f9f2dda"
   },
   "outputs": [
    {
     "data": {
      "text/html": [
       "<div>\n",
       "<style scoped>\n",
       "    .dataframe tbody tr th:only-of-type {\n",
       "        vertical-align: middle;\n",
       "    }\n",
       "\n",
       "    .dataframe tbody tr th {\n",
       "        vertical-align: top;\n",
       "    }\n",
       "\n",
       "    .dataframe thead th {\n",
       "        text-align: right;\n",
       "    }\n",
       "</style>\n",
       "<table border=\"1\" class=\"dataframe\">\n",
       "  <thead>\n",
       "    <tr style=\"text-align: right;\">\n",
       "      <th></th>\n",
       "      <th>user_id</th>\n",
       "      <th>book_id</th>\n",
       "      <th>rating</th>\n",
       "    </tr>\n",
       "  </thead>\n",
       "  <tbody>\n",
       "    <tr>\n",
       "      <th>count</th>\n",
       "      <td>5.976479e+06</td>\n",
       "      <td>5.976479e+06</td>\n",
       "      <td>5.976479e+06</td>\n",
       "    </tr>\n",
       "    <tr>\n",
       "      <th>mean</th>\n",
       "      <td>2.622446e+04</td>\n",
       "      <td>2.006477e+03</td>\n",
       "      <td>3.919866e+00</td>\n",
       "    </tr>\n",
       "    <tr>\n",
       "      <th>std</th>\n",
       "      <td>1.541323e+04</td>\n",
       "      <td>2.468499e+03</td>\n",
       "      <td>9.910868e-01</td>\n",
       "    </tr>\n",
       "    <tr>\n",
       "      <th>min</th>\n",
       "      <td>1.000000e+00</td>\n",
       "      <td>1.000000e+00</td>\n",
       "      <td>1.000000e+00</td>\n",
       "    </tr>\n",
       "    <tr>\n",
       "      <th>25%</th>\n",
       "      <td>1.281300e+04</td>\n",
       "      <td>1.980000e+02</td>\n",
       "      <td>3.000000e+00</td>\n",
       "    </tr>\n",
       "    <tr>\n",
       "      <th>50%</th>\n",
       "      <td>2.593800e+04</td>\n",
       "      <td>8.850000e+02</td>\n",
       "      <td>4.000000e+00</td>\n",
       "    </tr>\n",
       "    <tr>\n",
       "      <th>75%</th>\n",
       "      <td>3.950900e+04</td>\n",
       "      <td>2.973000e+03</td>\n",
       "      <td>5.000000e+00</td>\n",
       "    </tr>\n",
       "    <tr>\n",
       "      <th>max</th>\n",
       "      <td>5.342400e+04</td>\n",
       "      <td>1.000000e+04</td>\n",
       "      <td>5.000000e+00</td>\n",
       "    </tr>\n",
       "  </tbody>\n",
       "</table>\n",
       "</div>"
      ],
      "text/plain": [
       "            user_id       book_id        rating\n",
       "count  5.976479e+06  5.976479e+06  5.976479e+06\n",
       "mean   2.622446e+04  2.006477e+03  3.919866e+00\n",
       "std    1.541323e+04  2.468499e+03  9.910868e-01\n",
       "min    1.000000e+00  1.000000e+00  1.000000e+00\n",
       "25%    1.281300e+04  1.980000e+02  3.000000e+00\n",
       "50%    2.593800e+04  8.850000e+02  4.000000e+00\n",
       "75%    3.950900e+04  2.973000e+03  5.000000e+00\n",
       "max    5.342400e+04  1.000000e+04  5.000000e+00"
      ]
     },
     "execution_count": 60,
     "metadata": {
      "tags": []
     },
     "output_type": "execute_result"
    }
   ],
   "source": [
    "ratings_df.describe()"
   ]
  },
  {
   "cell_type": "code",
   "execution_count": 61,
   "metadata": {
    "colab": {
     "base_uri": "https://localhost:8080/",
     "height": 35
    },
    "colab_type": "code",
    "id": "ldbtIhYNMUe4",
    "outputId": "997c1293-480b-4624-a9ff-cd6eb3ac1db4"
   },
   "outputs": [
    {
     "data": {
      "text/plain": [
       "array([5, 4, 3, 2, 1])"
      ]
     },
     "execution_count": 61,
     "metadata": {
      "tags": []
     },
     "output_type": "execute_result"
    }
   ],
   "source": [
    "#Going to check if the ratings are as described.\n",
    "ratings_df.rating.unique()"
   ]
  },
  {
   "cell_type": "code",
   "execution_count": 62,
   "metadata": {
    "colab": {
     "base_uri": "https://localhost:8080/",
     "height": 145
    },
    "colab_type": "code",
    "id": "McPQLn89wtaX",
    "outputId": "9a0a22c7-d080-4c90-84e1-47c56bb4a827"
   },
   "outputs": [
    {
     "data": {
      "text/plain": [
       "rating\n",
       "1     2.078063\n",
       "2     6.011182\n",
       "3    22.938523\n",
       "4    35.790605\n",
       "5    33.181628\n",
       "Name: user_id, dtype: float64"
      ]
     },
     "execution_count": 62,
     "metadata": {
      "tags": []
     },
     "output_type": "execute_result"
    }
   ],
   "source": [
    "#Now let's see the distribution of those ratings from 1 to 5.\n",
    "ratings_df.groupby(\"rating\")[\"user_id\"].count()/ratings_df.shape[0] * 100"
   ]
  },
  {
   "cell_type": "markdown",
   "metadata": {
    "colab_type": "text",
    "id": "Zhf9uAgnxja5"
   },
   "source": [
    "So the predominant ratings are high only around 8% are with low (1 or 2 as a rating). Let's check how this looks like visually."
   ]
  },
  {
   "cell_type": "code",
   "execution_count": 63,
   "metadata": {
    "colab": {
     "base_uri": "https://localhost:8080/",
     "height": 433
    },
    "colab_type": "code",
    "id": "HOQmY1TeMCKL",
    "outputId": "489cd0d0-5495-4af6-c5c8-b3bb5800ce0a"
   },
   "outputs": [
    {
     "data": {
      "image/png": "[encoded data removed]",
      "text/plain": [
       "<Figure size 1296x432 with 1 Axes>"
      ]
     },
     "metadata": {
      "tags": []
     },
     "output_type": "display_data"
    }
   ],
   "source": [
    "hist , bin_edges = np.histogram(ratings_df.rating)\n",
    "bin_edges = np.round(bin_edges , 0)\n",
    "\n",
    "plt.figure(figsize = [18,6])\n",
    "\n",
    "plt.bar(bin_edges[:-1] , hist, width = 0.5, color = \"sandybrown\",)\n",
    "\n",
    "plt.xlim(min(bin_edges) - 0.5 , max(bin_edges) + 0.5)\n",
    "\n",
    "plt.grid(axis=\"y\", alpha=0.75)\n",
    "plt.xlabel(\"Rating\" , fontsize=14)\n",
    "plt.ylabel(\"Count\" , fontsize=14)\n",
    "plt.xticks(fontsize = 14)\n",
    "plt.yticks(fontsize = 14)\n",
    "plt.ylabel(\"Count\" , fontsize = 14)\n",
    "plt.title(\"Rating Distribution of Goodreads Books\" , fontsize = 14)\n",
    "plt.show()"
   ]
  },
  {
   "cell_type": "markdown",
   "metadata": {
    "colab_type": "text",
    "id": "GJq75o48yF_O"
   },
   "source": [
    "Almost 70% of the ratings are high (4 or 5). This seems logical since usually in order to rate a movie, song or a book you have to respectively watch/listen or read it. Since it might take days to read a book (comparatively more that the 1-2 hours for a movie or a few minutes for a song) it's normal to see only higher ratings for books."
   ]
  },
  {
   "cell_type": "markdown",
   "metadata": {
    "colab_type": "text",
    "id": "HcKlXz4g2MXe"
   },
   "source": [
    "Let's see what's the distribution of rating per user."
   ]
  },
  {
   "cell_type": "code",
   "execution_count": 0,
   "metadata": {
    "colab": {},
    "colab_type": "code",
    "id": "drimEraU2Prc"
   },
   "outputs": [],
   "source": [
    "rat_pu = ratings_df.groupby(\"user_id\")[\"rating\"].count()"
   ]
  },
  {
   "cell_type": "code",
   "execution_count": 65,
   "metadata": {
    "colab": {
     "base_uri": "https://localhost:8080/",
     "height": 433
    },
    "colab_type": "code",
    "id": "6U5hvZ_p7ok-",
    "outputId": "58d32640-cc7b-44ff-b1db-862de5102ac3"
   },
   "outputs": [
    {
     "data": {
      "image/png": "[encoded data removed]",
      "text/plain": [
       "<Figure size 1296x432 with 1 Axes>"
      ]
     },
     "metadata": {
      "tags": []
     },
     "output_type": "display_data"
    }
   ],
   "source": [
    "plt.figure(figsize = [18,6])\n",
    "plt.hist(rat_pu, bins = 200, color = \"sandybrown\")\n",
    "\n",
    "plt.grid(axis=\"y\", alpha=0.75)\n",
    "plt.xlabel(\"Ratings per user\" , fontsize=14)\n",
    "plt.ylabel(\"Number of users\" , fontsize=14)\n",
    "plt.xticks(fontsize = 14)\n",
    "plt.yticks(fontsize = 14)\n",
    "plt.ylabel(\"Number of users\" , fontsize = 14)\n",
    "plt.title(\"Rating Distribution of Goodreads Books\" , fontsize = 14)\n",
    "\n",
    "plt.show()"
   ]
  },
  {
   "cell_type": "markdown",
   "metadata": {
    "colab_type": "text",
    "id": "B9-lAfLKPnHn"
   },
   "source": [
    "Pretty normal distribution, since initially the users are asked to rate at least 20 books (to prevent the cold start) there are no users with less than 20 reviews."
   ]
  },
  {
   "cell_type": "code",
   "execution_count": 0,
   "metadata": {
    "colab": {},
    "colab_type": "code",
    "id": "vDdBOW_Hu0TC"
   },
   "outputs": [],
   "source": [
    "#Since I don't need the df anymore let's delete it.\n",
    "del rat_pu"
   ]
  },
  {
   "cell_type": "code",
   "execution_count": 0,
   "metadata": {
    "colab": {},
    "colab_type": "code",
    "id": "AmLvVvo5u1kE"
   },
   "outputs": [],
   "source": [
    "rat_pm = ratings_df.groupby(\"book_id\")[\"rating\"].count()"
   ]
  },
  {
   "cell_type": "code",
   "execution_count": 68,
   "metadata": {
    "colab": {
     "base_uri": "https://localhost:8080/",
     "height": 631
    },
    "colab_type": "code",
    "id": "QxdicUPaScAH",
    "outputId": "d53bf601-0d4f-472b-8403-b738bafcc766"
   },
   "outputs": [
    {
     "data": {
      "image/png": "[encoded data removed]",
      "text/plain": [
       "<Figure size 1008x720 with 1 Axes>"
      ]
     },
     "metadata": {
      "tags": []
     },
     "output_type": "display_data"
    }
   ],
   "source": [
    "plt.figure(figsize = [14,10])\n",
    "plt.hist(rat_pm, bins = 300, color = \"sandybrown\")\n",
    "\n",
    "plt.grid(axis=\"y\", alpha=0.75)\n",
    "plt.xlabel(\"Ratings per book\" , fontsize=14)\n",
    "plt.ylabel(\"Number of books\" , fontsize=14)\n",
    "plt.xticks(fontsize = 14)\n",
    "plt.yticks(fontsize = 14)\n",
    "plt.ylabel(\"Number of books\" , fontsize = 14)\n",
    "plt.title(\"Rating Distribution of Goodreads Books\" , fontsize = 14)\n",
    "\n",
    "plt.show()"
   ]
  },
  {
   "cell_type": "markdown",
   "metadata": {
    "colab_type": "text",
    "id": "_NyXyLc_MWos"
   },
   "source": [
    "We can see that the majority of the books don't have a lot of ratings."
   ]
  },
  {
   "cell_type": "code",
   "execution_count": 69,
   "metadata": {
    "colab": {
     "base_uri": "https://localhost:8080/",
     "height": 35
    },
    "colab_type": "code",
    "id": "ubiYe5BwUPNI",
    "outputId": "81776b24-9fa1-496e-dd4f-285757255851"
   },
   "outputs": [
    {
     "data": {
      "text/plain": [
       "22806"
      ]
     },
     "execution_count": 69,
     "metadata": {
      "tags": []
     },
     "output_type": "execute_result"
    }
   ],
   "source": [
    "#Since I'm curios to know which is the book with the most reviews :))\n",
    "ratings_df.groupby(\"book_id\")[\"rating\"].count().max()"
   ]
  },
  {
   "cell_type": "code",
   "execution_count": 70,
   "metadata": {
    "colab": {
     "base_uri": "https://localhost:8080/",
     "height": 72
    },
    "colab_type": "code",
    "id": "3bmy24nLXgSG",
    "outputId": "57a57c9b-80cf-43be-a73d-f2cd111fe1be"
   },
   "outputs": [
    {
     "data": {
      "text/plain": [
       "book_id\n",
       "1    22806\n",
       "Name: rating, dtype: int64"
      ]
     },
     "execution_count": 70,
     "metadata": {
      "tags": []
     },
     "output_type": "execute_result"
    }
   ],
   "source": [
    "rat_pm[ratings_df.groupby(\"book_id\")[\"rating\"].count() == 22806]"
   ]
  },
  {
   "cell_type": "code",
   "execution_count": 71,
   "metadata": {
    "colab": {
     "base_uri": "https://localhost:8080/",
     "height": 54
    },
    "colab_type": "code",
    "id": "TEmoqOqyaulK",
    "outputId": "6240cfd1-ce52-4dfb-cd97-0418ad72754c"
   },
   "outputs": [
    {
     "data": {
      "text/plain": [
       "0    The Hunger Games (The Hunger Games, #1)\n",
       "Name: title, dtype: object"
      ]
     },
     "execution_count": 71,
     "metadata": {
      "tags": []
     },
     "output_type": "execute_result"
    }
   ],
   "source": [
    "books_df.title[books_df[\"book_id\"] == 1]"
   ]
  },
  {
   "cell_type": "code",
   "execution_count": 0,
   "metadata": {
    "colab": {},
    "colab_type": "code",
    "id": "sCCe-zGFbPmP"
   },
   "outputs": [],
   "source": [
    "#Since I don't need rat_pu anymore I'm going to delete it.\n",
    "del rat_pm"
   ]
  },
  {
   "cell_type": "markdown",
   "metadata": {
    "colab_type": "text",
    "id": "dof-n1Lq_Sf8"
   },
   "source": [
    "##2. Deep Learninig Recommendation "
   ]
  },
  {
   "cell_type": "code",
   "execution_count": 0,
   "metadata": {
    "colab": {},
    "colab_type": "code",
    "id": "YoupH5TTC7mo"
   },
   "outputs": [],
   "source": [
    "#So let's shuffle the rows and then split the dataset to train and test datasets.\n",
    "ratings_df = ratings_df.sample(frac=1).reset_index(drop=True)\n",
    "\n",
    "#Testing size can be 100 k (around 1.6% of the data)\n",
    "n = 100000\n",
    "\n",
    "#And create out test/train split.\n",
    "test_df = ratings_df[:n]\n",
    "train_df = ratings_df[n:]"
   ]
  },
  {
   "cell_type": "code",
   "execution_count": 0,
   "metadata": {
    "colab": {},
    "colab_type": "code",
    "id": "xze8gv0DADJ8"
   },
   "outputs": [],
   "source": [
    "#Now let's create user_id and book_id mapping:\n",
    "user_id_m = {id:i for i, id in enumerate(train_df[\"user_id\"].unique())}\n",
    "book_id_m = {id: i for i, id in enumerate(train_df[\"book_id\"].unique())}"
   ]
  },
  {
   "cell_type": "code",
   "execution_count": 0,
   "metadata": {
    "colab": {},
    "colab_type": "code",
    "id": "WwtAJACNguWz"
   },
   "outputs": [],
   "source": [
    "#Apply this mapping to the train and test datasets.\n",
    "train_df_m_u = train_df[\"user_id\"].map(user_id_m)\n",
    "train_df_m_b = train_df[\"book_id\"].map(book_id_m)\n",
    "\n",
    "test_df_m_u = test_df[\"user_id\"].map(user_id_m)\n",
    "test_df_m_b = test_df[\"book_id\"].map(book_id_m)"
   ]
  },
  {
   "cell_type": "code",
   "execution_count": 76,
   "metadata": {
    "colab": {
     "base_uri": "https://localhost:8080/",
     "height": 54
    },
    "colab_type": "code",
    "id": "4gWopXmlhfn0",
    "outputId": "19aac3df-297f-4b0a-c2fd-9ea0556cb3ca"
   },
   "outputs": [
    {
     "name": "stdout",
     "output_type": "stream",
     "text": [
      "53424\n",
      "10000\n"
     ]
    }
   ],
   "source": [
    "#Set the lenght of users/books and just check what we did.\n",
    "users = len(user_id_m)\n",
    "books = len(book_id_m)\n",
    "print(users)\n",
    "print(books)"
   ]
  },
  {
   "cell_type": "markdown",
   "metadata": {
    "colab_type": "text",
    "id": "Wqy8p3lUzzps"
   },
   "source": [
    "Since we will have two separate input layers, embeddings etc, seems more logical to use \"Model\" in stead of sequential, as I don't see any logic the input of users to go into the next layer (input of books). But we're gonna concatenate the vectors for those two. With \"Model\" we can tell from which layer the current layer should take it's input. So let's see this."
   ]
  },
  {
   "cell_type": "code",
   "execution_count": 0,
   "metadata": {
    "colab": {},
    "colab_type": "code",
    "id": "llCIec-3iwhV"
   },
   "outputs": [],
   "source": [
    "#Set the embedding size.\n",
    "embedding_size = 10\n",
    "\n",
    "#We should start with setting input layers\n",
    "user_id_input = Input(shape = [1], name = \"user\")\n",
    "book_id_input = Input(shape = [1], name = \"book\")"
   ]
  },
  {
   "cell_type": "code",
   "execution_count": 0,
   "metadata": {
    "colab": {},
    "colab_type": "code",
    "id": "ylvbPFvUiz4O"
   },
   "outputs": [],
   "source": [
    "#Then we can proceed with user and book embeddings as shown below:\n",
    "user_embedding = Embedding(input_dim = users,\n",
    "                           output_dim = embedding_size,\n",
    "                           input_length = 1, \n",
    "                           name = \"user_embedding\")(user_id_input)"
   ]
  },
  {
   "cell_type": "code",
   "execution_count": 0,
   "metadata": {
    "colab": {},
    "colab_type": "code",
    "id": "Zkdi9T8kz07L"
   },
   "outputs": [],
   "source": [
    "book_embedding = Embedding(input_dim = books,\n",
    "                           output_dim = embedding_size,\n",
    "                           input_length = 1,\n",
    "                           name = \"book_embedding\")(book_id_input)"
   ]
  },
  {
   "cell_type": "code",
   "execution_count": 0,
   "metadata": {
    "colab": {},
    "colab_type": "code",
    "id": "_Mm1kRQimOlu"
   },
   "outputs": [],
   "source": [
    "#Then reshape the user and book vectors\n",
    "user_vector = Reshape([embedding_size])(user_embedding)\n",
    "book_vector = Reshape([embedding_size])(book_embedding)"
   ]
  },
  {
   "cell_type": "code",
   "execution_count": 0,
   "metadata": {
    "colab": {},
    "colab_type": "code",
    "id": "EIFzh6iB3Rej"
   },
   "outputs": [],
   "source": [
    "#And concatenate those, so that we can feed it to dense layers\n",
    "concatt = Concatenate()([user_vector, book_vector])"
   ]
  },
  {
   "cell_type": "code",
   "execution_count": 0,
   "metadata": {
    "colab": {},
    "colab_type": "code",
    "id": "TfInCZb_3O1f"
   },
   "outputs": [],
   "source": [
    "#Setting up the dense layers and the outpu\n",
    "dense1 = Dense(128, activation = \"relu\")(concatt)\n",
    "#dense2 = Dense(128)(dense1)\n",
    "#dense3 = Dense(128)(dense2)\n",
    "dense4 = Dense(256, activation = \"relu\")(dense1)\n",
    "out = Dense(1)(dense4)"
   ]
  },
  {
   "cell_type": "code",
   "execution_count": 0,
   "metadata": {
    "colab": {},
    "colab_type": "code",
    "id": "W1qc6AIOAoRl"
   },
   "outputs": [],
   "source": [
    "#Setting up two callbacks - one for the tensorboard and one for saving the model (model checkpoint)\n",
    "\n",
    "log_dir=\"logs/profile/\" + datetime.now().strftime(\"%Y%m%d-%H%M%S\")\n",
    "\n",
    "tensorboard_callback = tf.keras.callbacks.TensorBoard(log_dir=log_dir, histogram_freq=1)\n",
    "\n",
    "checkpoint_path = \"training_1/cp.ckpt\"\n",
    "checkpoint_dir = os.path.dirname(checkpoint_path)\n",
    "\n",
    "# Create checkpoint callback saving only the best model which can be loaded later eventually\n",
    "cpt_callback = tf.keras.callbacks.ModelCheckpoint(checkpoint_path, save_best_only = True, \n",
    "                                                 verbose=1)"
   ]
  },
  {
   "cell_type": "code",
   "execution_count": 85,
   "metadata": {
    "colab": {
     "base_uri": "https://localhost:8080/",
     "height": 545
    },
    "colab_type": "code",
    "id": "Lb82Rn6Z4cSO",
    "outputId": "7585be34-a4d7-4828-b7bc-0caf6d3e376b"
   },
   "outputs": [
    {
     "name": "stdout",
     "output_type": "stream",
     "text": [
      "Model: \"model\"\n",
      "__________________________________________________________________________________________________\n",
      "Layer (type)                    Output Shape         Param #     Connected to                     \n",
      "==================================================================================================\n",
      "user (InputLayer)               [(None, 1)]          0                                            \n",
      "__________________________________________________________________________________________________\n",
      "book (InputLayer)               [(None, 1)]          0                                            \n",
      "__________________________________________________________________________________________________\n",
      "user_embedding (Embedding)      (None, 1, 10)        534240      user[0][0]                       \n",
      "__________________________________________________________________________________________________\n",
      "book_embedding (Embedding)      (None, 1, 10)        100000      book[0][0]                       \n",
      "__________________________________________________________________________________________________\n",
      "reshape (Reshape)               (None, 10)           0           user_embedding[0][0]             \n",
      "__________________________________________________________________________________________________\n",
      "reshape_1 (Reshape)             (None, 10)           0           book_embedding[0][0]             \n",
      "__________________________________________________________________________________________________\n",
      "concatenate (Concatenate)       (None, 20)           0           reshape[0][0]                    \n",
      "                                                                 reshape_1[0][0]                  \n",
      "__________________________________________________________________________________________________\n",
      "dense (Dense)                   (None, 128)          2688        concatenate[0][0]                \n",
      "__________________________________________________________________________________________________\n",
      "dense_1 (Dense)                 (None, 256)          33024       dense[0][0]                      \n",
      "__________________________________________________________________________________________________\n",
      "dense_2 (Dense)                 (None, 1)            257         dense_1[0][0]                    \n",
      "==================================================================================================\n",
      "Total params: 670,209\n",
      "Trainable params: 670,209\n",
      "Non-trainable params: 0\n",
      "__________________________________________________________________________________________________\n"
     ]
    }
   ],
   "source": [
    "lrnng_rate = 1e-3\n",
    "epchs = 10\n",
    "btch_size = 128\n",
    "\n",
    "model = Model(inputs = [user_id_input, book_id_input], outputs = out)\n",
    "\n",
    "model.compile(loss = \"mse\", optimizer = Adam(lrnng_rate))\n",
    "\n",
    "model.summary()"
   ]
  },
  {
   "cell_type": "code",
   "execution_count": 89,
   "metadata": {
    "colab": {
     "base_uri": "https://localhost:8080/",
     "height": 910
    },
    "colab_type": "code",
    "id": "fnPSxSb3mWXL",
    "outputId": "e2e2d5e9-2c17-4fae-96e7-87800d0cbbef"
   },
   "outputs": [
    {
     "name": "stdout",
     "output_type": "stream",
     "text": [
      "Train on 5288831 samples, validate on 587648 samples\n",
      "Epoch 1/10\n",
      "    128/5288831 [..............................] - ETA: 31:16:16 - loss: 16.1776WARNING:tensorflow:Method (on_train_batch_end) is slow compared to the batch update (0.138336). Check your callbacks.\n",
      "5288448/5288831 [============================>.] - ETA: 0s - loss: 0.7727\n",
      "Epoch 00001: val_loss improved from inf to 0.73097, saving model to training_1/cp.ckpt\n",
      "WARNING:tensorflow:From /tensorflow-2.1.0/python3.6/tensorflow_core/python/ops/resource_variable_ops.py:1786: calling BaseResourceVariable.__init__ (from tensorflow.python.ops.resource_variable_ops) with constraint is deprecated and will be removed in a future version.\n",
      "Instructions for updating:\n",
      "If using Keras pass *_constraint arguments to layers.\n",
      "INFO:tensorflow:Assets written to: training_1/cp.ckpt/assets\n",
      "5288831/5288831 [==============================] - 345s 65us/sample - loss: 0.7727 - val_loss: 0.7310\n",
      "Epoch 2/10\n",
      "5288576/5288831 [============================>.] - ETA: 0s - loss: 0.7045\n",
      "Epoch 00002: val_loss improved from 0.73097 to 0.70047, saving model to training_1/cp.ckpt\n",
      "INFO:tensorflow:Assets written to: training_1/cp.ckpt/assets\n",
      "5288831/5288831 [==============================] - 347s 66us/sample - loss: 0.7045 - val_loss: 0.7005\n",
      "Epoch 3/10\n",
      "5288320/5288831 [============================>.] - ETA: 0s - loss: 0.6697\n",
      "Epoch 00003: val_loss improved from 0.70047 to 0.68680, saving model to training_1/cp.ckpt\n",
      "INFO:tensorflow:Assets written to: training_1/cp.ckpt/assets\n",
      "5288831/5288831 [==============================] - 350s 66us/sample - loss: 0.6697 - val_loss: 0.6868\n",
      "Epoch 4/10\n",
      "5288704/5288831 [============================>.] - ETA: 0s - loss: 0.6477\n",
      "Epoch 00004: val_loss improved from 0.68680 to 0.68135, saving model to training_1/cp.ckpt\n",
      "INFO:tensorflow:Assets written to: training_1/cp.ckpt/assets\n",
      "5288831/5288831 [==============================] - 351s 66us/sample - loss: 0.6477 - val_loss: 0.6814\n",
      "Epoch 5/10\n",
      "5288064/5288831 [============================>.] - ETA: 0s - loss: 0.6322\n",
      "Epoch 00005: val_loss improved from 0.68135 to 0.67843, saving model to training_1/cp.ckpt\n",
      "INFO:tensorflow:Assets written to: training_1/cp.ckpt/assets\n",
      "5288831/5288831 [==============================] - 343s 65us/sample - loss: 0.6322 - val_loss: 0.6784\n",
      "Epoch 6/10\n",
      "5288704/5288831 [============================>.] - ETA: 0s - loss: 0.6202\n",
      "Epoch 00006: val_loss did not improve from 0.67843\n",
      "5288831/5288831 [==============================] - 342s 65us/sample - loss: 0.6202 - val_loss: 0.6787\n",
      "Epoch 7/10\n",
      "5288704/5288831 [============================>.] - ETA: 0s - loss: 0.6104\n",
      "Epoch 00007: val_loss did not improve from 0.67843\n",
      "5288831/5288831 [==============================] - 347s 66us/sample - loss: 0.6104 - val_loss: 0.6813\n",
      "Epoch 8/10\n",
      "5288192/5288831 [============================>.] - ETA: 0s - loss: 0.6023\n",
      "Epoch 00008: val_loss did not improve from 0.67843\n",
      "5288831/5288831 [==============================] - 348s 66us/sample - loss: 0.6023 - val_loss: 0.6797\n",
      "Epoch 9/10\n",
      "5288192/5288831 [============================>.] - ETA: 0s - loss: 0.5956\n",
      "Epoch 00009: val_loss did not improve from 0.67843\n",
      "5288831/5288831 [==============================] - 348s 66us/sample - loss: 0.5956 - val_loss: 0.6834\n",
      "Epoch 10/10\n",
      "4180480/5288831 [======================>.......] - ETA: 1:10 - loss: 0.5870Buffered data was truncated after reaching the output size limit."
     ]
    }
   ],
   "source": [
    "#model.fit([train_df_m_u, train_df_m_b],\n",
    "#          train_df[\"rating\"],\n",
    "#          batch_size = btch_size, \n",
    "#          epochs = epchs,\n",
    "#          validation_split = 0.1,\n",
    "#          shuffle = True,\n",
    "#          callbacks = [tensorboard_callback, cpt_callback])"
   ]
  },
  {
   "cell_type": "code",
   "execution_count": 90,
   "metadata": {
    "colab": {
     "base_uri": "https://localhost:8080/",
     "height": 821
    },
    "colab_type": "code",
    "id": "rgzc96Hc_bzw",
    "outputId": "c1618a9d-0458-47dd-853d-06d85ddd36b6"
   },
   "outputs": [
    {
     "data": {
      "application/javascript": [
       "\n",
       "  (async () => {\n",
       "      const url = await google.colab.kernel.proxyPort(6006, {\"cache\": true});\n",
       "      const iframe = document.createElement('iframe');\n",
       "      iframe.src = url;\n",
       "      iframe.setAttribute('width', '100%');\n",
       "      iframe.setAttribute('height', '800');\n",
       "      iframe.setAttribute('frameborder', 0);\n",
       "      document.body.appendChild(iframe);\n",
       "  })();\n",
       "  "
      ],
      "text/plain": [
       "<IPython.core.display.Javascript object>"
      ]
     },
     "metadata": {
      "tags": []
     },
     "output_type": "display_data"
    }
   ],
   "source": [
    "#I was pleasantly surprised when I saw there's the option to run tensorboard in google colab.... well not for long.\n",
    "#Since I've tried several times to run it and every single time received an error below I'm just leaving it - I tried. ;(\n",
    "#%tensorboard --logdir logs/profile/"
   ]
  },
  {
   "cell_type": "code",
   "execution_count": 91,
   "metadata": {
    "colab": {
     "base_uri": "https://localhost:8080/",
     "height": 72
    },
    "colab_type": "code",
    "id": "L41p-2UE93JA",
    "outputId": "06fa3ff4-853f-4d24-c844-43098fb12782"
   },
   "outputs": [
    {
     "name": "stdout",
     "output_type": "stream",
     "text": [
      "\n",
      "\n",
      "Testing Result With Keras Deep Learning: 0.6798 MSE\n"
     ]
    }
   ],
   "source": [
    "#y_pred = model.predict([test_df_m_u, test_df_m_b])\n",
    "#y_true = test_df[\"rating\"].values\n",
    "\n",
    "#mse = mean_squared_error(y_pred=y_pred, y_true=y_true)\n",
    "#print(\"\\n\\nTesting Result With Keras Deep Learning: {:.4f} MSE\".format(mse))"
   ]
  },
  {
   "cell_type": "code",
   "execution_count": 92,
   "metadata": {
    "colab": {
     "base_uri": "https://localhost:8080/",
     "height": 217
    },
    "colab_type": "code",
    "id": "XHFksJptnm_Q",
    "outputId": "d59dc552-4402-4751-bd9f-d6c2ff22516d"
   },
   "outputs": [
    {
     "name": "stdout",
     "output_type": "stream",
     "text": [
      "logs/profile/\n",
      "logs/profile/20200214-032655/\n",
      "logs/profile/20200214-032655/validation/\n",
      "logs/profile/20200214-032655/validation/events.out.tfevents.1581651158.cb45734a9039.141.258307.v2\n",
      "logs/profile/20200214-032655/train/\n",
      "logs/profile/20200214-032655/train/events.out.tfevents.1581650818.cb45734a9039.profile-empty\n",
      "logs/profile/20200214-032655/train/plugins/\n",
      "logs/profile/20200214-032655/train/plugins/profile/\n",
      "logs/profile/20200214-032655/train/plugins/profile/2020-02-14_03-26-58/\n",
      "logs/profile/20200214-032655/train/plugins/profile/2020-02-14_03-26-58/local.trace\n",
      "logs/profile/20200214-032655/train/events.out.tfevents.1581650815.cb45734a9039.141.278.v2\n"
     ]
    }
   ],
   "source": [
    "#Found alternative for the tensorboard so I'm going to work around this.\n",
    "#https://colab.research.google.com/github/tensorflow/tensorboard/blob/master/docs/tensorboard_profiling_keras.ipynb#scrollTo=TZOf_K4L-Nkv\n",
    "#!tar -zcvf logs.tar.gz logs/profile/"
   ]
  },
  {
   "cell_type": "markdown",
   "metadata": {},
   "source": [
    "![title](img/1st_training.jpg)"
   ]
  },
  {
   "cell_type": "markdown",
   "metadata": {
    "colab_type": "text",
    "id": "-UY8UQAltVcC"
   },
   "source": [
    "Orange is train, blue is validation losses respectively. Really no point to run after epoch 7 because we start overfitting and our validation loss increases."
   ]
  },
  {
   "cell_type": "markdown",
   "metadata": {
    "colab_type": "text",
    "id": "z4XSmcj5Elto"
   },
   "source": [
    "So below I'm going to make some minor modifications and train the model again. Not going to put the text above each code as this has been already mentioned in the first example. Might explore the option to put a function for the repetitive stuff, but for now I find it more easier for debugging/tracking purposes to have everything outlined."
   ]
  },
  {
   "cell_type": "code",
   "execution_count": 0,
   "metadata": {
    "colab": {},
    "colab_type": "code",
    "id": "JUw7Eokz0Rj_"
   },
   "outputs": [],
   "source": [
    "dense1 = Dense(128, activation = \"relu\")(concatt)\n",
    "#dense2 = Dropout(drpt_rate)(dense1)\n",
    "dense3 = Dense(256, activation = \"relu\")(dense1)\n",
    "#dense4 = Dropout(drpt_rate)(dense3)\n",
    "\n",
    "out = Dense(1)(dense3)"
   ]
  },
  {
   "cell_type": "code",
   "execution_count": 0,
   "metadata": {
    "colab": {},
    "colab_type": "code",
    "id": "J1UQE6nh-0Kz"
   },
   "outputs": [],
   "source": [
    "log_dir=\"logs/profile/\" + datetime.now().strftime(\"%Y%m%d-%H%M%S\")\n",
    "\n",
    "tensorboard_callback = tf.keras.callbacks.TensorBoard(log_dir=log_dir, histogram_freq=1)\n",
    "\n",
    "checkpoint_path = \"training_2/cp.ckpt\"\n",
    "checkpoint_dir = os.path.dirname(checkpoint_path)\n",
    "\n",
    "# Create checkpoint callback saving only the best model which can be loaded later eventually\n",
    "cpt_callback = tf.keras.callbacks.ModelCheckpoint(checkpoint_path, save_best_only = True, \n",
    "                                                 verbose=1)"
   ]
  },
  {
   "cell_type": "code",
   "execution_count": 95,
   "metadata": {
    "colab": {
     "base_uri": "https://localhost:8080/",
     "height": 545
    },
    "colab_type": "code",
    "id": "gfIK1bvz-Avg",
    "outputId": "6caddd1f-0153-4df9-d9b1-d79f85d4db0f"
   },
   "outputs": [
    {
     "name": "stdout",
     "output_type": "stream",
     "text": [
      "Model: \"model_1\"\n",
      "__________________________________________________________________________________________________\n",
      "Layer (type)                    Output Shape         Param #     Connected to                     \n",
      "==================================================================================================\n",
      "user (InputLayer)               [(None, 1)]          0                                            \n",
      "__________________________________________________________________________________________________\n",
      "book (InputLayer)               [(None, 1)]          0                                            \n",
      "__________________________________________________________________________________________________\n",
      "user_embedding (Embedding)      (None, 1, 10)        534240      user[0][0]                       \n",
      "__________________________________________________________________________________________________\n",
      "book_embedding (Embedding)      (None, 1, 10)        100000      book[0][0]                       \n",
      "__________________________________________________________________________________________________\n",
      "reshape (Reshape)               (None, 10)           0           user_embedding[0][0]             \n",
      "__________________________________________________________________________________________________\n",
      "reshape_1 (Reshape)             (None, 10)           0           book_embedding[0][0]             \n",
      "__________________________________________________________________________________________________\n",
      "concatenate (Concatenate)       (None, 20)           0           reshape[0][0]                    \n",
      "                                                                 reshape_1[0][0]                  \n",
      "__________________________________________________________________________________________________\n",
      "dense_3 (Dense)                 (None, 128)          2688        concatenate[0][0]                \n",
      "__________________________________________________________________________________________________\n",
      "dense_4 (Dense)                 (None, 256)          33024       dense_3[0][0]                    \n",
      "__________________________________________________________________________________________________\n",
      "dense_5 (Dense)                 (None, 1)            257         dense_4[0][0]                    \n",
      "==================================================================================================\n",
      "Total params: 670,209\n",
      "Trainable params: 670,209\n",
      "Non-trainable params: 0\n",
      "__________________________________________________________________________________________________\n"
     ]
    }
   ],
   "source": [
    "#So let's change the learning rate and see what the impact of this will be.\n",
    "lrnng_rate = 1e-4\n",
    "epchs = 7\n",
    "btch_size = 128\n",
    "\n",
    "model = Model(inputs = [user_id_input, book_id_input], outputs = out)\n",
    "\n",
    "model.compile(loss = \"mse\", optimizer = Adam(lrnng_rate))\n",
    "\n",
    "model.summary()"
   ]
  },
  {
   "cell_type": "code",
   "execution_count": 96,
   "metadata": {
    "colab": {
     "base_uri": "https://localhost:8080/",
     "height": 760
    },
    "colab_type": "code",
    "id": "5QsjDAWu-Aq1",
    "outputId": "1024f5f0-4d3d-420c-a3d0-baf1ffea126d"
   },
   "outputs": [
    {
     "name": "stdout",
     "output_type": "stream",
     "text": [
      "Train on 5288831 samples, validate on 587648 samples\n",
      "Epoch 1/7\n",
      "5288576/5288831 [============================>.] - ETA: 0s - loss: 0.6391\n",
      "Epoch 00001: val_loss improved from inf to 0.68660, saving model to training_2/cp.ckpt\n",
      "INFO:tensorflow:Assets written to: training_2/cp.ckpt/assets\n",
      "5288831/5288831 [==============================] - 341s 64us/sample - loss: 0.6391 - val_loss: 0.6866\n",
      "Epoch 2/7\n",
      "5288576/5288831 [============================>.] - ETA: 0s - loss: 0.5850\n",
      "Epoch 00002: val_loss did not improve from 0.68660\n",
      "5288831/5288831 [==============================] - 349s 66us/sample - loss: 0.5850 - val_loss: 0.6902\n",
      "Epoch 3/7\n",
      "5288320/5288831 [============================>.] - ETA: 0s - loss: 0.5766\n",
      "Epoch 00003: val_loss did not improve from 0.68660\n",
      "5288831/5288831 [==============================] - 341s 64us/sample - loss: 0.5766 - val_loss: 0.6885\n",
      "Epoch 4/7\n",
      "5288576/5288831 [============================>.] - ETA: 0s - loss: 0.5716\n",
      "Epoch 00004: val_loss did not improve from 0.68660\n",
      "5288831/5288831 [==============================] - 336s 64us/sample - loss: 0.5716 - val_loss: 0.6933\n",
      "Epoch 5/7\n",
      "4356352/5288831 [=======================>......] - ETA: 59s - loss: 0.5675WARNING:tensorflow:Can save best model only with val_loss available, skipping.\n",
      "4356352/5288831 [=======================>......] - ETA: 59s - loss: 0.5675"
     ]
    },
    {
     "ename": "KeyboardInterrupt",
     "evalue": "ignored",
     "output_type": "error",
     "traceback": [
      "\u001b[0;31m---------------------------------------------------------------------------\u001b[0m",
      "\u001b[0;31mKeyboardInterrupt\u001b[0m                         Traceback (most recent call last)",
      "\u001b[0;32m<ipython-input-96-343b693a2a4a>\u001b[0m in \u001b[0;36m<module>\u001b[0;34m()\u001b[0m\n\u001b[1;32m      5\u001b[0m           \u001b[0mvalidation_split\u001b[0m \u001b[0;34m=\u001b[0m \u001b[0;36m0.1\u001b[0m\u001b[0;34m,\u001b[0m\u001b[0;34m\u001b[0m\u001b[0;34m\u001b[0m\u001b[0m\n\u001b[1;32m      6\u001b[0m           \u001b[0mshuffle\u001b[0m \u001b[0;34m=\u001b[0m \u001b[0;32mTrue\u001b[0m\u001b[0;34m,\u001b[0m\u001b[0;34m\u001b[0m\u001b[0;34m\u001b[0m\u001b[0m\n\u001b[0;32m----> 7\u001b[0;31m           callbacks = [tensorboard_callback, cpt_callback])\n\u001b[0m",
      "\u001b[0;32m/tensorflow-2.1.0/python3.6/tensorflow_core/python/keras/engine/training.py\u001b[0m in \u001b[0;36mfit\u001b[0;34m(self, x, y, batch_size, epochs, verbose, callbacks, validation_split, validation_data, shuffle, class_weight, sample_weight, initial_epoch, steps_per_epoch, validation_steps, validation_freq, max_queue_size, workers, use_multiprocessing, **kwargs)\u001b[0m\n\u001b[1;32m    817\u001b[0m         \u001b[0mmax_queue_size\u001b[0m\u001b[0;34m=\u001b[0m\u001b[0mmax_queue_size\u001b[0m\u001b[0;34m,\u001b[0m\u001b[0;34m\u001b[0m\u001b[0;34m\u001b[0m\u001b[0m\n\u001b[1;32m    818\u001b[0m         \u001b[0mworkers\u001b[0m\u001b[0;34m=\u001b[0m\u001b[0mworkers\u001b[0m\u001b[0;34m,\u001b[0m\u001b[0;34m\u001b[0m\u001b[0;34m\u001b[0m\u001b[0m\n\u001b[0;32m--> 819\u001b[0;31m         use_multiprocessing=use_multiprocessing)\n\u001b[0m\u001b[1;32m    820\u001b[0m \u001b[0;34m\u001b[0m\u001b[0m\n\u001b[1;32m    821\u001b[0m   def evaluate(self,\n",
      "\u001b[0;32m/tensorflow-2.1.0/python3.6/tensorflow_core/python/keras/engine/training_v2.py\u001b[0m in \u001b[0;36mfit\u001b[0;34m(self, model, x, y, batch_size, epochs, verbose, callbacks, validation_split, validation_data, shuffle, class_weight, sample_weight, initial_epoch, steps_per_epoch, validation_steps, validation_freq, max_queue_size, workers, use_multiprocessing, **kwargs)\u001b[0m\n\u001b[1;32m    340\u001b[0m                 \u001b[0mmode\u001b[0m\u001b[0;34m=\u001b[0m\u001b[0mModeKeys\u001b[0m\u001b[0;34m.\u001b[0m\u001b[0mTRAIN\u001b[0m\u001b[0;34m,\u001b[0m\u001b[0;34m\u001b[0m\u001b[0;34m\u001b[0m\u001b[0m\n\u001b[1;32m    341\u001b[0m                 \u001b[0mtraining_context\u001b[0m\u001b[0;34m=\u001b[0m\u001b[0mtraining_context\u001b[0m\u001b[0;34m,\u001b[0m\u001b[0;34m\u001b[0m\u001b[0;34m\u001b[0m\u001b[0m\n\u001b[0;32m--> 342\u001b[0;31m                 total_epochs=epochs)\n\u001b[0m\u001b[1;32m    343\u001b[0m             \u001b[0mcbks\u001b[0m\u001b[0;34m.\u001b[0m\u001b[0mmake_logs\u001b[0m\u001b[0;34m(\u001b[0m\u001b[0mmodel\u001b[0m\u001b[0;34m,\u001b[0m \u001b[0mepoch_logs\u001b[0m\u001b[0;34m,\u001b[0m \u001b[0mtraining_result\u001b[0m\u001b[0;34m,\u001b[0m \u001b[0mModeKeys\u001b[0m\u001b[0;34m.\u001b[0m\u001b[0mTRAIN\u001b[0m\u001b[0;34m)\u001b[0m\u001b[0;34m\u001b[0m\u001b[0;34m\u001b[0m\u001b[0m\n\u001b[1;32m    344\u001b[0m \u001b[0;34m\u001b[0m\u001b[0m\n",
      "\u001b[0;32m/tensorflow-2.1.0/python3.6/tensorflow_core/python/keras/engine/training_v2.py\u001b[0m in \u001b[0;36mrun_one_epoch\u001b[0;34m(model, iterator, execution_function, dataset_size, batch_size, strategy, steps_per_epoch, num_samples, mode, training_context, total_epochs)\u001b[0m\n\u001b[1;32m    179\u001b[0m             batch_end=step * batch_size + current_batch_size)\n\u001b[1;32m    180\u001b[0m       \u001b[0mcbks\u001b[0m\u001b[0;34m.\u001b[0m\u001b[0mmake_logs\u001b[0m\u001b[0;34m(\u001b[0m\u001b[0mmodel\u001b[0m\u001b[0;34m,\u001b[0m \u001b[0mbatch_logs\u001b[0m\u001b[0;34m,\u001b[0m \u001b[0mbatch_outs\u001b[0m\u001b[0;34m,\u001b[0m \u001b[0mmode\u001b[0m\u001b[0;34m)\u001b[0m\u001b[0;34m\u001b[0m\u001b[0;34m\u001b[0m\u001b[0m\n\u001b[0;32m--> 181\u001b[0;31m       \u001b[0mstep\u001b[0m \u001b[0;34m+=\u001b[0m \u001b[0;36m1\u001b[0m\u001b[0;34m\u001b[0m\u001b[0;34m\u001b[0m\u001b[0m\n\u001b[0m\u001b[1;32m    182\u001b[0m \u001b[0;34m\u001b[0m\u001b[0m\n\u001b[1;32m    183\u001b[0m     \u001b[0;32mif\u001b[0m \u001b[0mcallbacks\u001b[0m\u001b[0;34m.\u001b[0m\u001b[0mmodel\u001b[0m\u001b[0;34m.\u001b[0m\u001b[0mstop_training\u001b[0m\u001b[0;34m:\u001b[0m\u001b[0;34m\u001b[0m\u001b[0;34m\u001b[0m\u001b[0m\n",
      "\u001b[0;32m/usr/lib/python3.6/contextlib.py\u001b[0m in \u001b[0;36m__exit__\u001b[0;34m(self, type, value, traceback)\u001b[0m\n\u001b[1;32m     86\u001b[0m         \u001b[0;32mif\u001b[0m \u001b[0mtype\u001b[0m \u001b[0;32mis\u001b[0m \u001b[0;32mNone\u001b[0m\u001b[0;34m:\u001b[0m\u001b[0;34m\u001b[0m\u001b[0;34m\u001b[0m\u001b[0m\n\u001b[1;32m     87\u001b[0m             \u001b[0;32mtry\u001b[0m\u001b[0;34m:\u001b[0m\u001b[0;34m\u001b[0m\u001b[0;34m\u001b[0m\u001b[0m\n\u001b[0;32m---> 88\u001b[0;31m                 \u001b[0mnext\u001b[0m\u001b[0;34m(\u001b[0m\u001b[0mself\u001b[0m\u001b[0;34m.\u001b[0m\u001b[0mgen\u001b[0m\u001b[0;34m)\u001b[0m\u001b[0;34m\u001b[0m\u001b[0;34m\u001b[0m\u001b[0m\n\u001b[0m\u001b[1;32m     89\u001b[0m             \u001b[0;32mexcept\u001b[0m \u001b[0mStopIteration\u001b[0m\u001b[0;34m:\u001b[0m\u001b[0;34m\u001b[0m\u001b[0;34m\u001b[0m\u001b[0m\n\u001b[1;32m     90\u001b[0m                 \u001b[0;32mreturn\u001b[0m \u001b[0;32mFalse\u001b[0m\u001b[0;34m\u001b[0m\u001b[0;34m\u001b[0m\u001b[0m\n",
      "\u001b[0;32m/tensorflow-2.1.0/python3.6/tensorflow_core/python/keras/engine/training_v2.py\u001b[0m in \u001b[0;36mon_batch\u001b[0;34m(self, step, mode, size)\u001b[0m\n\u001b[1;32m    786\u001b[0m         \u001b[0;32mif\u001b[0m \u001b[0;32mnot\u001b[0m \u001b[0mbatch_logs\u001b[0m\u001b[0;34m.\u001b[0m\u001b[0mpop\u001b[0m\u001b[0;34m(\u001b[0m\u001b[0;34m'data_exhausted'\u001b[0m\u001b[0;34m,\u001b[0m \u001b[0;32mFalse\u001b[0m\u001b[0;34m)\u001b[0m\u001b[0;34m:\u001b[0m\u001b[0;34m\u001b[0m\u001b[0;34m\u001b[0m\u001b[0m\n\u001b[1;32m    787\u001b[0m           self.callbacks._call_batch_hook(\n\u001b[0;32m--> 788\u001b[0;31m               mode, 'end', step, batch_logs)\n\u001b[0m\u001b[1;32m    789\u001b[0m           \u001b[0mself\u001b[0m\u001b[0;34m.\u001b[0m\u001b[0mprogbar\u001b[0m\u001b[0;34m.\u001b[0m\u001b[0mon_batch_end\u001b[0m\u001b[0;34m(\u001b[0m\u001b[0mstep\u001b[0m\u001b[0;34m,\u001b[0m \u001b[0mbatch_logs\u001b[0m\u001b[0;34m)\u001b[0m\u001b[0;34m\u001b[0m\u001b[0;34m\u001b[0m\u001b[0m\n",
      "\u001b[0;32m/tensorflow-2.1.0/python3.6/tensorflow_core/python/keras/callbacks.py\u001b[0m in \u001b[0;36m_call_batch_hook\u001b[0;34m(self, mode, hook, batch, logs)\u001b[0m\n\u001b[1;32m    237\u001b[0m     \u001b[0;32mfor\u001b[0m \u001b[0mcallback\u001b[0m \u001b[0;32min\u001b[0m \u001b[0mself\u001b[0m\u001b[0;34m.\u001b[0m\u001b[0mcallbacks\u001b[0m\u001b[0;34m:\u001b[0m\u001b[0;34m\u001b[0m\u001b[0;34m\u001b[0m\u001b[0m\n\u001b[1;32m    238\u001b[0m       \u001b[0mbatch_hook\u001b[0m \u001b[0;34m=\u001b[0m \u001b[0mgetattr\u001b[0m\u001b[0;34m(\u001b[0m\u001b[0mcallback\u001b[0m\u001b[0;34m,\u001b[0m \u001b[0mhook_name\u001b[0m\u001b[0;34m)\u001b[0m\u001b[0;34m\u001b[0m\u001b[0;34m\u001b[0m\u001b[0m\n\u001b[0;32m--> 239\u001b[0;31m       \u001b[0mbatch_hook\u001b[0m\u001b[0;34m(\u001b[0m\u001b[0mbatch\u001b[0m\u001b[0;34m,\u001b[0m \u001b[0mlogs\u001b[0m\u001b[0;34m)\u001b[0m\u001b[0;34m\u001b[0m\u001b[0;34m\u001b[0m\u001b[0m\n\u001b[0m\u001b[1;32m    240\u001b[0m     \u001b[0mself\u001b[0m\u001b[0;34m.\u001b[0m\u001b[0m_delta_ts\u001b[0m\u001b[0;34m[\u001b[0m\u001b[0mhook_name\u001b[0m\u001b[0;34m]\u001b[0m\u001b[0;34m.\u001b[0m\u001b[0mappend\u001b[0m\u001b[0;34m(\u001b[0m\u001b[0mtime\u001b[0m\u001b[0;34m.\u001b[0m\u001b[0mtime\u001b[0m\u001b[0;34m(\u001b[0m\u001b[0;34m)\u001b[0m \u001b[0;34m-\u001b[0m \u001b[0mt_before_callbacks\u001b[0m\u001b[0;34m)\u001b[0m\u001b[0;34m\u001b[0m\u001b[0;34m\u001b[0m\u001b[0m\n\u001b[1;32m    241\u001b[0m \u001b[0;34m\u001b[0m\u001b[0m\n",
      "\u001b[0;32m/tensorflow-2.1.0/python3.6/tensorflow_core/python/keras/callbacks.py\u001b[0m in \u001b[0;36mon_train_batch_end\u001b[0;34m(self, batch, logs)\u001b[0m\n\u001b[1;32m   1689\u001b[0m       \u001b[0mself\u001b[0m\u001b[0;34m.\u001b[0m\u001b[0m_log_metrics\u001b[0m\u001b[0;34m(\u001b[0m\u001b[0mlogs\u001b[0m\u001b[0;34m,\u001b[0m \u001b[0mprefix\u001b[0m\u001b[0;34m=\u001b[0m\u001b[0;34m'batch_'\u001b[0m\u001b[0;34m,\u001b[0m \u001b[0mstep\u001b[0m\u001b[0;34m=\u001b[0m\u001b[0mtrain_batches\u001b[0m\u001b[0;34m)\u001b[0m\u001b[0;34m\u001b[0m\u001b[0;34m\u001b[0m\u001b[0m\n\u001b[1;32m   1690\u001b[0m \u001b[0;34m\u001b[0m\u001b[0m\n\u001b[0;32m-> 1691\u001b[0;31m     \u001b[0mself\u001b[0m\u001b[0;34m.\u001b[0m\u001b[0m_increment_step\u001b[0m\u001b[0;34m(\u001b[0m\u001b[0mself\u001b[0m\u001b[0;34m.\u001b[0m\u001b[0m_train_run_name\u001b[0m\u001b[0;34m)\u001b[0m\u001b[0;34m\u001b[0m\u001b[0;34m\u001b[0m\u001b[0m\n\u001b[0m\u001b[1;32m   1692\u001b[0m \u001b[0;34m\u001b[0m\u001b[0m\n\u001b[1;32m   1693\u001b[0m     \u001b[0;32mif\u001b[0m \u001b[0mcontext\u001b[0m\u001b[0;34m.\u001b[0m\u001b[0mexecuting_eagerly\u001b[0m\u001b[0;34m(\u001b[0m\u001b[0;34m)\u001b[0m\u001b[0;34m:\u001b[0m\u001b[0;34m\u001b[0m\u001b[0;34m\u001b[0m\u001b[0m\n",
      "\u001b[0;32m/tensorflow-2.1.0/python3.6/tensorflow_core/python/keras/callbacks.py\u001b[0m in \u001b[0;36m_increment_step\u001b[0;34m(self, writer_name)\u001b[0m\n\u001b[1;32m   1658\u001b[0m     \u001b[0mstep\u001b[0m \u001b[0;34m=\u001b[0m \u001b[0mself\u001b[0m\u001b[0;34m.\u001b[0m\u001b[0m_total_batches_seen\u001b[0m\u001b[0;34m[\u001b[0m\u001b[0mwriter_name\u001b[0m\u001b[0;34m]\u001b[0m\u001b[0;34m\u001b[0m\u001b[0;34m\u001b[0m\u001b[0m\n\u001b[1;32m   1659\u001b[0m     \u001b[0;32mif\u001b[0m \u001b[0misinstance\u001b[0m\u001b[0;34m(\u001b[0m\u001b[0mstep\u001b[0m\u001b[0;34m,\u001b[0m \u001b[0mvariables\u001b[0m\u001b[0;34m.\u001b[0m\u001b[0mVariable\u001b[0m\u001b[0;34m)\u001b[0m\u001b[0;34m:\u001b[0m\u001b[0;34m\u001b[0m\u001b[0;34m\u001b[0m\u001b[0m\n\u001b[0;32m-> 1660\u001b[0;31m       \u001b[0mstep\u001b[0m\u001b[0;34m.\u001b[0m\u001b[0massign_add\u001b[0m\u001b[0;34m(\u001b[0m\u001b[0;36m1\u001b[0m\u001b[0;34m)\u001b[0m\u001b[0;34m\u001b[0m\u001b[0;34m\u001b[0m\u001b[0m\n\u001b[0m\u001b[1;32m   1661\u001b[0m     \u001b[0;32melse\u001b[0m\u001b[0;34m:\u001b[0m\u001b[0;34m\u001b[0m\u001b[0;34m\u001b[0m\u001b[0m\n\u001b[1;32m   1662\u001b[0m       \u001b[0mself\u001b[0m\u001b[0;34m.\u001b[0m\u001b[0m_total_batches_seen\u001b[0m\u001b[0;34m[\u001b[0m\u001b[0mwriter_name\u001b[0m\u001b[0;34m]\u001b[0m \u001b[0;34m+=\u001b[0m \u001b[0;36m1\u001b[0m\u001b[0;34m\u001b[0m\u001b[0;34m\u001b[0m\u001b[0m\n",
      "\u001b[0;32m/tensorflow-2.1.0/python3.6/tensorflow_core/python/ops/resource_variable_ops.py\u001b[0m in \u001b[0;36massign_add\u001b[0;34m(self, delta, use_locking, name, read_value)\u001b[0m\n\u001b[1;32m    784\u001b[0m       assign_add_op = gen_resource_variable_ops.assign_add_variable_op(\n\u001b[1;32m    785\u001b[0m           \u001b[0mself\u001b[0m\u001b[0;34m.\u001b[0m\u001b[0mhandle\u001b[0m\u001b[0;34m,\u001b[0m \u001b[0mops\u001b[0m\u001b[0;34m.\u001b[0m\u001b[0mconvert_to_tensor\u001b[0m\u001b[0;34m(\u001b[0m\u001b[0mdelta\u001b[0m\u001b[0;34m,\u001b[0m \u001b[0mdtype\u001b[0m\u001b[0;34m=\u001b[0m\u001b[0mself\u001b[0m\u001b[0;34m.\u001b[0m\u001b[0mdtype\u001b[0m\u001b[0;34m)\u001b[0m\u001b[0;34m,\u001b[0m\u001b[0;34m\u001b[0m\u001b[0;34m\u001b[0m\u001b[0m\n\u001b[0;32m--> 786\u001b[0;31m           name=name)\n\u001b[0m\u001b[1;32m    787\u001b[0m     \u001b[0;32mif\u001b[0m \u001b[0mread_value\u001b[0m\u001b[0;34m:\u001b[0m\u001b[0;34m\u001b[0m\u001b[0;34m\u001b[0m\u001b[0m\n\u001b[1;32m    788\u001b[0m       \u001b[0;32mreturn\u001b[0m \u001b[0mself\u001b[0m\u001b[0;34m.\u001b[0m\u001b[0m_lazy_read\u001b[0m\u001b[0;34m(\u001b[0m\u001b[0massign_add_op\u001b[0m\u001b[0;34m)\u001b[0m\u001b[0;34m\u001b[0m\u001b[0;34m\u001b[0m\u001b[0m\n",
      "\u001b[0;32m/tensorflow-2.1.0/python3.6/tensorflow_core/python/ops/gen_resource_variable_ops.py\u001b[0m in \u001b[0;36massign_add_variable_op\u001b[0;34m(resource, value, name)\u001b[0m\n\u001b[1;32m     42\u001b[0m       _result = _pywrap_tensorflow.TFE_Py_FastPathExecute(\n\u001b[1;32m     43\u001b[0m         \u001b[0m_ctx\u001b[0m\u001b[0;34m.\u001b[0m\u001b[0m_context_handle\u001b[0m\u001b[0;34m,\u001b[0m \u001b[0mtld\u001b[0m\u001b[0;34m.\u001b[0m\u001b[0mdevice_name\u001b[0m\u001b[0;34m,\u001b[0m \u001b[0;34m\"AssignAddVariableOp\"\u001b[0m\u001b[0;34m,\u001b[0m \u001b[0mname\u001b[0m\u001b[0;34m,\u001b[0m\u001b[0;34m\u001b[0m\u001b[0;34m\u001b[0m\u001b[0m\n\u001b[0;32m---> 44\u001b[0;31m         tld.op_callbacks, resource, value)\n\u001b[0m\u001b[1;32m     45\u001b[0m       \u001b[0;32mreturn\u001b[0m \u001b[0m_result\u001b[0m\u001b[0;34m\u001b[0m\u001b[0;34m\u001b[0m\u001b[0m\n\u001b[1;32m     46\u001b[0m     \u001b[0;32mexcept\u001b[0m \u001b[0m_core\u001b[0m\u001b[0;34m.\u001b[0m\u001b[0m_FallbackException\u001b[0m\u001b[0;34m:\u001b[0m\u001b[0;34m\u001b[0m\u001b[0;34m\u001b[0m\u001b[0m\n",
      "\u001b[0;31mKeyboardInterrupt\u001b[0m: "
     ]
    }
   ],
   "source": [
    "#model.fit([train_df_m_u, train_df_m_b],\n",
    "#          train_df[\"rating\"],\n",
    "#          batch_size = btch_size,\n",
    "#          epochs = epchs,\n",
    "#          validation_split = 0.1,\n",
    "#          shuffle = True,\n",
    "#          callbacks = [tensorboard_callback, cpt_callback])"
   ]
  },
  {
   "cell_type": "markdown",
   "metadata": {
    "colab_type": "text",
    "id": "zzUYS5vOHfwp"
   },
   "source": [
    "Stopeed it intentionally. Really no point in running more epochs as I can see that the results are not better and the validation loss increases or stays higher that the 1st training (and the lowest epoch for the current training achieve in epoch 1 of MSE 0.6866"
   ]
  },
  {
   "cell_type": "code",
   "execution_count": 0,
   "metadata": {
    "colab": {
     "base_uri": "https://localhost:8080/",
     "height": 235
    },
    "colab_type": "code",
    "id": "C62GW-z2_rs0",
    "outputId": "2a5c903e-8189-49b3-8c0c-9f48aa81c47c"
   },
   "outputs": [
    {
     "name": "stdout",
     "output_type": "stream",
     "text": [
      "logs/profile/\n",
      "logs/profile/20200213-184316/\n",
      "logs/profile/20200213-184316/validation/\n",
      "logs/profile/20200213-184316/validation/events.out.tfevents.1581619694.14b4085c7157.140.1553580.v2\n",
      "logs/profile/20200213-184316/train/\n",
      "logs/profile/20200213-184316/train/events.out.tfevents.1581619417.14b4085c7157.profile-empty\n",
      "logs/profile/20200213-184316/train/events.out.tfevents.1581619416.14b4085c7157.140.1295453.v2\n",
      "logs/profile/20200213-184316/train/plugins/\n",
      "logs/profile/20200213-184316/train/plugins/profile/\n",
      "logs/profile/20200213-184316/train/plugins/profile/2020-02-13_18-43-37/\n",
      "logs/profile/20200213-184316/train/plugins/profile/2020-02-13_18-43-37/local.trace\n",
      "logs/profile/.ipynb_checkpoints/\n"
     ]
    }
   ],
   "source": [
    "# Skipping also this part\n",
    "#!tar -zcvf logs.tar.gz logs/profile"
   ]
  },
  {
   "cell_type": "code",
   "execution_count": 97,
   "metadata": {
    "colab": {
     "base_uri": "https://localhost:8080/",
     "height": 72
    },
    "colab_type": "code",
    "id": "bF72twC4-AoR",
    "outputId": "b489fe28-528e-4238-c2e6-6f8217d139a1"
   },
   "outputs": [
    {
     "name": "stdout",
     "output_type": "stream",
     "text": [
      "\n",
      "\n",
      "Testing Result With Keras Deep Learning: 0.6899 MSE\n"
     ]
    }
   ],
   "source": [
    "#y_pred = model.predict([test_df_m_u, test_df_m_b])\n",
    "#y_true = test_df[\"rating\"].values\n",
    "\n",
    "#mse = mean_squared_error(y_pred=y_pred, y_true=y_true)\n",
    "#print(\"\\n\\nTesting Result With Keras Deep Learning: {:.4f} MSE\".format(mse))"
   ]
  },
  {
   "cell_type": "markdown",
   "metadata": {
    "colab_type": "text",
    "id": "uwACypNm94mA"
   },
   "source": [
    "The MSE error on the test set is higher as expected after seeing the epochs."
   ]
  },
  {
   "cell_type": "code",
   "execution_count": 0,
   "metadata": {
    "colab": {
     "base_uri": "https://localhost:8080/",
     "height": 90
    },
    "colab_type": "code",
    "id": "afZp9dRx-Amb",
    "outputId": "9e1b411d-e7a8-47bb-bce3-71280570c8d5"
   },
   "outputs": [
    {
     "data": {
      "text/plain": [
       "ERROR: Failed to launch TensorBoard (exited with 2).\n",
       "Contents of stderr:\n",
       "usage: tensorboard [-h] [--helpfull] {serve,dev} ...\n",
       "tensorboard: error: invalid choice: '—' (choose from 'serve', 'dev')"
      ]
     },
     "metadata": {
      "tags": []
     },
     "output_type": "display_data"
    }
   ],
   "source": [
    "#%tensorboard — logdir logs"
   ]
  },
  {
   "cell_type": "markdown",
   "metadata": {
    "colab_type": "text",
    "id": "ZdUrE9HWF-Ow"
   },
   "source": [
    "Now I'm going to add new layer and see if the MSE will improve."
   ]
  },
  {
   "cell_type": "code",
   "execution_count": 0,
   "metadata": {
    "colab": {},
    "colab_type": "code",
    "id": "Q6jL1nU9-Ajp"
   },
   "outputs": [],
   "source": [
    "#Setting up the layers:\n",
    "\n",
    "dense1 = Dense(64, activation = \"relu\")(concatt)\n",
    "dense2 = Dense(128, activation = \"relu\")(dense1)\n",
    "dense3 = Dense(256, activation = \"relu\")(dense2)\n",
    "#dense4 = Dropout(drpt_rate)(dense3)\n",
    "\n",
    "out = Dense(1)(dense3)"
   ]
  },
  {
   "cell_type": "code",
   "execution_count": 0,
   "metadata": {
    "colab": {},
    "colab_type": "code",
    "id": "loI_JVw--Aev"
   },
   "outputs": [],
   "source": [
    "#Setting up the callbacks:\n",
    "\n",
    "log_dir=\"logs/profile/\" + datetime.now().strftime(\"%Y%m%d-%H%M%S\")\n",
    "\n",
    "tensorboard_callback = tf.keras.callbacks.TensorBoard(log_dir=log_dir, histogram_freq=1)\n",
    "\n",
    "checkpoint_path = \"training_3/cp.ckpt\"\n",
    "checkpoint_dir = os.path.dirname(checkpoint_path)\n",
    "\n",
    "# Create checkpoint callback saving only the best model which can be loaded later eventually\n",
    "cpt_callback = tf.keras.callbacks.ModelCheckpoint(checkpoint_path, save_best_only = True, \n",
    "                                                 verbose=1)"
   ]
  },
  {
   "cell_type": "code",
   "execution_count": 101,
   "metadata": {
    "colab": {
     "base_uri": "https://localhost:8080/",
     "height": 581
    },
    "colab_type": "code",
    "id": "HnEy1rLm-AO-",
    "outputId": "740fae77-314e-45ac-c232-33554117759f"
   },
   "outputs": [
    {
     "name": "stdout",
     "output_type": "stream",
     "text": [
      "Model: \"model_2\"\n",
      "__________________________________________________________________________________________________\n",
      "Layer (type)                    Output Shape         Param #     Connected to                     \n",
      "==================================================================================================\n",
      "user (InputLayer)               [(None, 1)]          0                                            \n",
      "__________________________________________________________________________________________________\n",
      "book (InputLayer)               [(None, 1)]          0                                            \n",
      "__________________________________________________________________________________________________\n",
      "user_embedding (Embedding)      (None, 1, 10)        534240      user[0][0]                       \n",
      "__________________________________________________________________________________________________\n",
      "book_embedding (Embedding)      (None, 1, 10)        100000      book[0][0]                       \n",
      "__________________________________________________________________________________________________\n",
      "reshape (Reshape)               (None, 10)           0           user_embedding[0][0]             \n",
      "__________________________________________________________________________________________________\n",
      "reshape_1 (Reshape)             (None, 10)           0           book_embedding[0][0]             \n",
      "__________________________________________________________________________________________________\n",
      "concatenate (Concatenate)       (None, 20)           0           reshape[0][0]                    \n",
      "                                                                 reshape_1[0][0]                  \n",
      "__________________________________________________________________________________________________\n",
      "dense_7 (Dense)                 (None, 64)           1344        concatenate[0][0]                \n",
      "__________________________________________________________________________________________________\n",
      "dense_8 (Dense)                 (None, 128)          8320        dense_7[0][0]                    \n",
      "__________________________________________________________________________________________________\n",
      "dense_9 (Dense)                 (None, 256)          33024       dense_8[0][0]                    \n",
      "__________________________________________________________________________________________________\n",
      "dense_10 (Dense)                (None, 1)            257         dense_9[0][0]                    \n",
      "==================================================================================================\n",
      "Total params: 677,185\n",
      "Trainable params: 677,185\n",
      "Non-trainable params: 0\n",
      "__________________________________________________________________________________________________\n"
     ]
    }
   ],
   "source": [
    "lrnng_rate = 1e-3\n",
    "epchs = 7\n",
    "btch_size = 128\n",
    "\n",
    "model = Model(inputs = [user_id_input, book_id_input], outputs = out)\n",
    "\n",
    "model.compile(loss = \"mse\", optimizer = Adam(lrnng_rate))\n",
    "\n",
    "model.summary()"
   ]
  },
  {
   "cell_type": "code",
   "execution_count": 102,
   "metadata": {
    "colab": {
     "base_uri": "https://localhost:8080/",
     "height": 581
    },
    "colab_type": "code",
    "id": "itTLniz_-AYY",
    "outputId": "87226b0d-e26f-4739-c7e3-8f2d4115d42c"
   },
   "outputs": [
    {
     "name": "stdout",
     "output_type": "stream",
     "text": [
      "Train on 5288831 samples, validate on 587648 samples\n",
      "Epoch 1/7\n",
      "5288192/5288831 [============================>.] - ETA: 0s - loss: 0.6150\n",
      "Epoch 00001: val_loss improved from inf to 0.68166, saving model to training_3/cp.ckpt\n",
      "INFO:tensorflow:Assets written to: training_3/cp.ckpt/assets\n",
      "5288831/5288831 [==============================] - 352s 67us/sample - loss: 0.6150 - val_loss: 0.6817\n",
      "Epoch 2/7\n",
      "5288704/5288831 [============================>.] - ETA: 0s - loss: 0.5930\n",
      "Epoch 00002: val_loss did not improve from 0.68166\n",
      "5288831/5288831 [==============================] - 352s 67us/sample - loss: 0.5930 - val_loss: 0.6825\n",
      "Epoch 3/7\n",
      "5288576/5288831 [============================>.] - ETA: 0s - loss: 0.5856\n",
      "Epoch 00003: val_loss did not improve from 0.68166\n",
      "5288831/5288831 [==============================] - 345s 65us/sample - loss: 0.5856 - val_loss: 0.6819\n",
      "Epoch 4/7\n",
      "5288448/5288831 [============================>.] - ETA: 0s - loss: 0.5803\n",
      "Epoch 00004: val_loss did not improve from 0.68166\n",
      "5288831/5288831 [==============================] - 353s 67us/sample - loss: 0.5803 - val_loss: 0.6839\n",
      "Epoch 5/7\n",
      "5288192/5288831 [============================>.] - ETA: 0s - loss: 0.5755\n",
      "Epoch 00005: val_loss did not improve from 0.68166\n",
      "5288831/5288831 [==============================] - 345s 65us/sample - loss: 0.5755 - val_loss: 0.6871\n",
      "Epoch 6/7\n",
      "5288448/5288831 [============================>.] - ETA: 0s - loss: 0.5715\n",
      "Epoch 00006: val_loss did not improve from 0.68166\n",
      "5288831/5288831 [==============================] - 344s 65us/sample - loss: 0.5715 - val_loss: 0.6830\n",
      "Epoch 7/7\n",
      "5288576/5288831 [============================>.] - ETA: 0s - loss: 0.5677\n",
      "Epoch 00007: val_loss did not improve from 0.68166\n",
      "5288831/5288831 [==============================] - 345s 65us/sample - loss: 0.5677 - val_loss: 0.6895\n"
     ]
    },
    {
     "data": {
      "text/plain": [
       "<tensorflow.python.keras.callbacks.History at 0x7fa1c5afd9e8>"
      ]
     },
     "execution_count": 102,
     "metadata": {
      "tags": []
     },
     "output_type": "execute_result"
    }
   ],
   "source": [
    "#model.fit([train_df_m_u, train_df_m_b],\n",
    "#          train_df[\"rating\"],\n",
    "#          batch_size = btch_size, \n",
    "#          epochs = epchs,\n",
    "#          validation_split = 0.1,\n",
    "#          shuffle = True,\n",
    "#          callbacks = [tensorboard_callback, cpt_callback])"
   ]
  },
  {
   "cell_type": "code",
   "execution_count": 103,
   "metadata": {
    "colab": {
     "base_uri": "https://localhost:8080/",
     "height": 72
    },
    "colab_type": "code",
    "id": "eCLF6mrq-AEa",
    "outputId": "8617c2d0-3fdc-41b7-efdd-efaad47ebc76"
   },
   "outputs": [
    {
     "name": "stdout",
     "output_type": "stream",
     "text": [
      "\n",
      "\n",
      "Testing Result With Keras Deep Learning: 0.6873 MSE\n"
     ]
    }
   ],
   "source": [
    "#y_pred = model.predict([test_df_m_u, test_df_m_b])\n",
    "#y_true = test_df[\"rating\"].values\n",
    "\n",
    "#mse = mean_squared_error(y_pred=y_pred, y_true=y_true)\n",
    "#print(\"\\n\\nTesting Result With Keras Deep Learning: {:.4f} MSE\".format(mse))"
   ]
  },
  {
   "cell_type": "code",
   "execution_count": 104,
   "metadata": {
    "colab": {
     "base_uri": "https://localhost:8080/",
     "height": 235
    },
    "colab_type": "code",
    "id": "48j876u5DTbW",
    "outputId": "2c7d84b5-9855-492c-bf69-6222bc26ac1d"
   },
   "outputs": [
    {
     "name": "stdout",
     "output_type": "stream",
     "text": [
      "logs/profile/\n",
      "logs/profile/.ipynb_checkpoints/\n",
      "logs/profile/20200214-052130/\n",
      "logs/profile/20200214-052130/validation/\n",
      "logs/profile/20200214-052130/validation/events.out.tfevents.1581658217.cb45734a9039.141.4077805.v2\n",
      "logs/profile/20200214-052130/train/\n",
      "logs/profile/20200214-052130/train/events.out.tfevents.1581657865.cb45734a9039.141.3819707.v2\n",
      "logs/profile/20200214-052130/train/events.out.tfevents.1581657866.cb45734a9039.profile-empty\n",
      "logs/profile/20200214-052130/train/plugins/\n",
      "logs/profile/20200214-052130/train/plugins/profile/\n",
      "logs/profile/20200214-052130/train/plugins/profile/2020-02-14_05-24-26/\n",
      "logs/profile/20200214-052130/train/plugins/profile/2020-02-14_05-24-26/local.trace\n"
     ]
    }
   ],
   "source": [
    "#!tar -zcvf logs.tar.gz logs/profile"
   ]
  },
  {
   "cell_type": "markdown",
   "metadata": {
    "colab": {},
    "colab_type": "code",
    "id": "TFZu1gN7XITC"
   },
   "source": [
    "![title](img/3rd_training.jpg)"
   ]
  },
  {
   "cell_type": "markdown",
   "metadata": {
    "colab_type": "text",
    "id": "aBqpcQcBWfFk"
   },
   "source": [
    "So more deepener network didn't improve the MSE metric. Let's decrease the learninig rate then."
   ]
  },
  {
   "cell_type": "code",
   "execution_count": 0,
   "metadata": {
    "colab": {},
    "colab_type": "code",
    "id": "dKUEiJx_VHYa"
   },
   "outputs": [],
   "source": [
    "dense1 = Dense(128, activation = \"relu\")(concatt)\n",
    "#dense2 = Dropout(drpt_rate)(dense1)\n",
    "dense3 = Dense(256, activation = \"relu\")(dense1)\n",
    "#dense4 = Dropout(drpt_rate)(dense3)\n",
    "\n",
    "out = Dense(1)(dense3)"
   ]
  },
  {
   "cell_type": "code",
   "execution_count": 0,
   "metadata": {
    "colab": {},
    "colab_type": "code",
    "id": "8AzXeY_LW2Hp"
   },
   "outputs": [],
   "source": [
    "log_dir=\"logs/profile/\" + datetime.now().strftime(\"%Y%m%d-%H%M%S\")\n",
    "\n",
    "tensorboard_callback = tf.keras.callbacks.TensorBoard(log_dir=log_dir, histogram_freq=1)\n",
    "\n",
    "checkpoint_path = \"training_4/cp.ckpt\"\n",
    "checkpoint_dir = os.path.dirname(checkpoint_path)\n",
    "\n",
    "# Create checkpoint callback saving only the best model which can be loaded later eventually\n",
    "cpt_callback = tf.keras.callbacks.ModelCheckpoint(checkpoint_path, save_best_only = True, \n",
    "                                                 verbose=1)"
   ]
  },
  {
   "cell_type": "code",
   "execution_count": 107,
   "metadata": {
    "colab": {
     "base_uri": "https://localhost:8080/",
     "height": 545
    },
    "colab_type": "code",
    "id": "jcSIqruNW-ki",
    "outputId": "c1c7dfe8-6b21-4112-caab-cdb703d0284e"
   },
   "outputs": [
    {
     "name": "stdout",
     "output_type": "stream",
     "text": [
      "Model: \"model_3\"\n",
      "__________________________________________________________________________________________________\n",
      "Layer (type)                    Output Shape         Param #     Connected to                     \n",
      "==================================================================================================\n",
      "user (InputLayer)               [(None, 1)]          0                                            \n",
      "__________________________________________________________________________________________________\n",
      "book (InputLayer)               [(None, 1)]          0                                            \n",
      "__________________________________________________________________________________________________\n",
      "user_embedding (Embedding)      (None, 1, 10)        534240      user[0][0]                       \n",
      "__________________________________________________________________________________________________\n",
      "book_embedding (Embedding)      (None, 1, 10)        100000      book[0][0]                       \n",
      "__________________________________________________________________________________________________\n",
      "reshape (Reshape)               (None, 10)           0           user_embedding[0][0]             \n",
      "__________________________________________________________________________________________________\n",
      "reshape_1 (Reshape)             (None, 10)           0           book_embedding[0][0]             \n",
      "__________________________________________________________________________________________________\n",
      "concatenate (Concatenate)       (None, 20)           0           reshape[0][0]                    \n",
      "                                                                 reshape_1[0][0]                  \n",
      "__________________________________________________________________________________________________\n",
      "dense_11 (Dense)                (None, 128)          2688        concatenate[0][0]                \n",
      "__________________________________________________________________________________________________\n",
      "dense_12 (Dense)                (None, 256)          33024       dense_11[0][0]                   \n",
      "__________________________________________________________________________________________________\n",
      "dense_13 (Dense)                (None, 1)            257         dense_12[0][0]                   \n",
      "==================================================================================================\n",
      "Total params: 670,209\n",
      "Trainable params: 670,209\n",
      "Non-trainable params: 0\n",
      "__________________________________________________________________________________________________\n"
     ]
    }
   ],
   "source": [
    "#So let's change the learning rate and see what the impact of this will be.\n",
    "lrnng_rate = 1e-2\n",
    "epchs = 7\n",
    "btch_size = 128\n",
    "\n",
    "model = Model(inputs = [user_id_input, book_id_input], outputs = out)\n",
    "\n",
    "model.compile(loss = \"mse\", optimizer = Adam(lrnng_rate))\n",
    "\n",
    "model.summary()"
   ]
  },
  {
   "cell_type": "code",
   "execution_count": 108,
   "metadata": {
    "colab": {
     "base_uri": "https://localhost:8080/",
     "height": 617
    },
    "colab_type": "code",
    "id": "ANbqHy3-XFX6",
    "outputId": "1038ee69-feaf-4784-b0f4-02120bb277a0"
   },
   "outputs": [
    {
     "name": "stdout",
     "output_type": "stream",
     "text": [
      "Train on 5288831 samples, validate on 587648 samples\n",
      "Epoch 1/7\n",
      "5288320/5288831 [============================>.] - ETA: 0s - loss: 0.6949\n",
      "Epoch 00001: val_loss improved from inf to 0.69751, saving model to training_4/cp.ckpt\n",
      "INFO:tensorflow:Assets written to: training_4/cp.ckpt/assets\n",
      "5288831/5288831 [==============================] - 340s 64us/sample - loss: 0.6949 - val_loss: 0.6975\n",
      "Epoch 2/7\n",
      "5288320/5288831 [============================>.] - ETA: 0s - loss: 0.6573\n",
      "Epoch 00002: val_loss improved from 0.69751 to 0.69724, saving model to training_4/cp.ckpt\n",
      "INFO:tensorflow:Assets written to: training_4/cp.ckpt/assets\n",
      "5288831/5288831 [==============================] - 344s 65us/sample - loss: 0.6574 - val_loss: 0.6972\n",
      "Epoch 3/7\n",
      "5288064/5288831 [============================>.] - ETA: 0s - loss: 0.6374\n",
      "Epoch 00003: val_loss improved from 0.69724 to 0.68504, saving model to training_4/cp.ckpt\n",
      "INFO:tensorflow:Assets written to: training_4/cp.ckpt/assets\n",
      "5288831/5288831 [==============================] - 342s 65us/sample - loss: 0.6374 - val_loss: 0.6850\n",
      "Epoch 4/7\n",
      "5288576/5288831 [============================>.] - ETA: 0s - loss: 0.6247\n",
      "Epoch 00004: val_loss did not improve from 0.68504\n",
      "5288831/5288831 [==============================] - 345s 65us/sample - loss: 0.6247 - val_loss: 0.6881\n",
      "Epoch 5/7\n",
      "5288448/5288831 [============================>.] - ETA: 0s - loss: 0.6156\n",
      "Epoch 00005: val_loss did not improve from 0.68504\n",
      "5288831/5288831 [==============================] - 359s 68us/sample - loss: 0.6156 - val_loss: 0.6906\n",
      "Epoch 6/7\n",
      "5288704/5288831 [============================>.] - ETA: 0s - loss: 0.6085\n",
      "Epoch 00006: val_loss did not improve from 0.68504\n",
      "5288831/5288831 [==============================] - 339s 64us/sample - loss: 0.6085 - val_loss: 0.6856\n",
      "Epoch 7/7\n",
      "5288064/5288831 [============================>.] - ETA: 0s - loss: 0.6032\n",
      "Epoch 00007: val_loss did not improve from 0.68504\n",
      "5288831/5288831 [==============================] - 339s 64us/sample - loss: 0.6032 - val_loss: 0.6904\n"
     ]
    },
    {
     "data": {
      "text/plain": [
       "<tensorflow.python.keras.callbacks.History at 0x7fa167fc4fd0>"
      ]
     },
     "execution_count": 108,
     "metadata": {
      "tags": []
     },
     "output_type": "execute_result"
    }
   ],
   "source": [
    "#model.fit([train_df_m_u, train_df_m_b],\n",
    "#          train_df[\"rating\"],\n",
    "#          batch_size = btch_size, \n",
    "#          epochs = epchs,\n",
    "#          validation_split = 0.1,\n",
    "#          shuffle = True,\n",
    "#          callbacks = [tensorboard_callback, cpt_callback])"
   ]
  },
  {
   "cell_type": "code",
   "execution_count": 110,
   "metadata": {
    "colab": {
     "base_uri": "https://localhost:8080/",
     "height": 72
    },
    "colab_type": "code",
    "id": "5JdcUbDOXhfj",
    "outputId": "d65f9d61-184c-4c97-e757-ab0de11ae176"
   },
   "outputs": [
    {
     "name": "stdout",
     "output_type": "stream",
     "text": [
      "\n",
      "\n",
      "Testing Result With Keras Deep Learning: 0.6876 MSE\n"
     ]
    }
   ],
   "source": [
    "#y_pred = model.predict([test_df_m_u, test_df_m_b])\n",
    "#y_true = test_df[\"rating\"].values\n",
    "\n",
    "#mse = mean_squared_error(y_pred=y_pred, y_true=y_true)\n",
    "#print(\"\\n\\nTesting Result With Keras Deep Learning: {:.4f} MSE\".format(mse))"
   ]
  },
  {
   "cell_type": "code",
   "execution_count": 109,
   "metadata": {
    "colab": {
     "base_uri": "https://localhost:8080/",
     "height": 235
    },
    "colab_type": "code",
    "id": "WPfimdIdg1h2",
    "outputId": "334d3c2f-2cf9-41a2-c521-5ff00de5b4ff"
   },
   "outputs": [
    {
     "name": "stdout",
     "output_type": "stream",
     "text": [
      "logs/profile/\n",
      "logs/profile/.ipynb_checkpoints/\n",
      "logs/profile/20200214-062339/\n",
      "logs/profile/20200214-062339/validation/\n",
      "logs/profile/20200214-062339/validation/events.out.tfevents.1581661765.cb45734a9039.141.5883762.v2\n",
      "logs/profile/20200214-062339/train/\n",
      "logs/profile/20200214-062339/train/plugins/\n",
      "logs/profile/20200214-062339/train/plugins/profile/\n",
      "logs/profile/20200214-062339/train/plugins/profile/2020-02-14_06-23-47/\n",
      "logs/profile/20200214-062339/train/plugins/profile/2020-02-14_06-23-47/local.trace\n",
      "logs/profile/20200214-062339/train/events.out.tfevents.1581661427.cb45734a9039.profile-empty\n",
      "logs/profile/20200214-062339/train/events.out.tfevents.1581661426.cb45734a9039.141.5625733.v2\n"
     ]
    }
   ],
   "source": [
    "#For the last time I'm going to download the logs and view them on tensorboard\n",
    "#!tar -zcvf logs.tar.gz logs/profile"
   ]
  },
  {
   "cell_type": "markdown",
   "metadata": {
    "colab": {},
    "colab_type": "code",
    "id": "WiHD_hTKj_Sc"
   },
   "source": [
    "![title](img/4th_training.jpg)"
   ]
  },
  {
   "cell_type": "markdown",
   "metadata": {
    "colab_type": "text",
    "id": "dXXaSHFpj9Wu"
   },
   "source": [
    "Best model checkpoints attached in the \"Logs and Ckpts\" folder together with this notebook."
   ]
  },
  {
   "cell_type": "markdown",
   "metadata": {
    "colab_type": "text",
    "id": "oVl6TAXZfmdF"
   },
   "source": [
    "#4. Conclusoin\n",
    "\n",
    "It turns out that the deep learning optimization is a lot more harder than the simpler grid_search. Couldn't decrease the mse loss more than the initial training. Though I did try a few combinations(out of this notebook) before deciding on the initial one. Next steps would be to work with a smaller sample, overfit it a bit and then regularize it. Another thing which I think about is to oversample the instances with low ratings as those were a really small part of the whole dataset (around 8%)."
   ]
  },
  {
   "cell_type": "code",
   "execution_count": null,
   "metadata": {},
   "outputs": [],
   "source": []
  }
 ],
 "metadata": {
  "accelerator": "GPU",
  "colab": {
   "collapsed_sections": [],
   "machine_shape": "hm",
   "name": "book_recommender.ipynb",
   "provenance": [],
   "toc_visible": true
  },
  "kernelspec": {
   "display_name": "Python 3",
   "language": "python",
   "name": "python3"
  },
  "language_info": {
   "codemirror_mode": {
    "name": "ipython",
    "version": 3
   },
   "file_extension": ".py",
   "mimetype": "text/x-python",
   "name": "python",
   "nbconvert_exporter": "python",
   "pygments_lexer": "ipython3",
   "version": "3.7.3"
  }
 },
 "nbformat": 4,
 "nbformat_minor": 1
}
